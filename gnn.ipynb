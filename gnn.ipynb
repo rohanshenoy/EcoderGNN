{
 "cells": [
  {
   "cell_type": "code",
   "execution_count": 1,
   "id": "31aa0023",
   "metadata": {},
   "outputs": [],
   "source": [
    "import os\n",
    "import yaml\n",
    "import pickle\n",
    "import numpy as np\n",
    "import pandas as pd\n",
    "import itertools\n",
    "import scipy\n",
    "import torch\n",
    "import torch_geometric.datasets as datasets\n",
    "import torch_geometric.data as Data\n",
    "from torch_geometric.loader import DataLoader\n",
    "import torch_geometric.transforms as transforms\n",
    "import networkx as nx\n",
    "from torch_geometric.utils.convert import to_networkx\n",
    "import matplotlib.pyplot as plt\n",
    "\n",
    "from produce_dataset import *\n",
    "\n",
    "import torch.nn.functional as F\n",
    "from torch_geometric.nn import GCNConv"
   ]
  },
  {
   "cell_type": "code",
   "execution_count": 2,
   "id": "9721939a",
   "metadata": {},
   "outputs": [],
   "source": [
    "ntuple_dir = '/ecoderemdvol/EleGun/EPGun-PU200/data/econ_ntuples/0002/'\n",
    "root_dir = 'FloatingpointAutoEncoderEMDAEMSEttbarDummyHistomaxGenmatchGenclustersntuple'\n",
    "\n",
    "df_econ = loadEconData(ntuple_dir,root_dir,'econ_data.csv',False)\n",
    "\n",
    "df_gen = loadGenData(ntuple_dir,root_dir,'gen_data.csv')"
   ]
  },
  {
   "cell_type": "code",
   "execution_count": 3,
   "id": "9a0eaacc",
   "metadata": {},
   "outputs": [],
   "source": [
    "def build_graph(df_econ,\n",
    "            df_gen,\n",
    "            zside_select,\n",
    "            phi_min,\n",
    "            phi_max):\n",
    "    \n",
    "    if zside_select !=0:\n",
    "        df_econ = df_econ[df_econ.zside == zside_select]\n",
    "\n",
    "\n",
    "    #only choose wafers in some phi range now\n",
    "    \n",
    "    df_econ = df_econ[df_econ.tc_phi>phi_min][df_econ.tc_phi<phi_max];\n",
    "    \n",
    "    df_nodes=df_econ[['ECON_0', 'ECON_1', 'ECON_2', 'ECON_3', 'ECON_4', 'ECON_5', 'ECON_6',\n",
    "           'ECON_7', 'ECON_8', 'ECON_9', 'ECON_10', 'ECON_11', 'ECON_12','ECON_13', 'ECON_14', 'ECON_15', \n",
    "            'wafer_energy', 'tc_eta', 'tc_phi']]\n",
    "    df_nodes.reset_index(inplace=True)\n",
    "    \n",
    "    embeddings = torch.tensor(df_nodes.values)\n",
    "\n",
    "    eta=df_nodes['tc_eta']\n",
    "    phi=df_nodes['tc_phi']\n",
    "    idx = range(len(eta))\n",
    "    indices_i = np.array([i for i,j in itertools.product(idx,idx)])\n",
    "    indices_j = np.array([j for i,j in itertools.product(idx,idx)])\n",
    "\n",
    "    del_R = np.empty([len(eta),len(eta)])\n",
    "    del_R.shape\n",
    "\n",
    "    for (i, j) in zip(indices_i,indices_j):\n",
    "        del_R[i][j]=np.sqrt((eta[i]-eta[j])**2+((phi[i]-phi[j])%(2*np.pi))**2)\n",
    "\n",
    "    del_R = torch.tensor(del_R)\n",
    "\n",
    "    adj = np.zeros([len(eta),len(eta)])\n",
    "    for (i, j) in zip(indices_i,indices_j):\n",
    "        if del_R[i][j] <0.045 and  del_R[i][j]> 0 :\n",
    "            adj[i][j]=1.0\n",
    "\n",
    "    adj=torch.tensor(adj) \n",
    "\n",
    "    edge_index = (adj > 0.0).nonzero().t()\n",
    "    edge_index.shape\n",
    "\n",
    "    #predict node level feature: PU vs electron per simenergy\n",
    "\n",
    "    feature_df= df_econ['wafer_energy']\n",
    "    labels = (feature_df.where(feature_df==0,other=1))\n",
    "    features = torch.tensor(labels.values).to(torch.long)\n",
    "\n",
    "    graph = Data.Data(x=embeddings, edge_index=edge_index, y=features)\n",
    "    graph.num_classes=2\n",
    "    return graph"
   ]
  },
  {
   "cell_type": "code",
   "execution_count": 4,
   "id": "7a153d9d",
   "metadata": {},
   "outputs": [],
   "source": [
    "#Choose only front endcap for training\n",
    "\n",
    "df_gen = (df_gen[df_gen.eta>0])\n",
    "df_gen.reset_index(drop=True,inplace=True)"
   ]
  },
  {
   "cell_type": "code",
   "execution_count": 5,
   "id": "7aee84d2",
   "metadata": {},
   "outputs": [],
   "source": [
    "graphs = []"
   ]
  },
  {
   "cell_type": "code",
   "execution_count": 6,
   "id": "828ec728",
   "metadata": {},
   "outputs": [
    {
     "name": "stderr",
     "output_type": "stream",
     "text": [
      "/tmp/ipykernel_5046/206552639.py:13: UserWarning: Boolean Series key will be reindexed to match DataFrame index.\n",
      "  df_econ = df_econ[df_econ.tc_phi>phi_min][df_econ.tc_phi<phi_max];\n"
     ]
    }
   ],
   "source": [
    "for gen_phi in df_gen['phi']:\n",
    "    phi_min,phi_max= gen_phi-np.pi/12,gen_phi+np.pi/12\n",
    "    graphs.append(build_graph(df_econ,df_gen,1,phi_min,phi_max));\n",
    "    "
   ]
  },
  {
   "cell_type": "code",
   "execution_count": 9,
   "id": "7dcfd2f4",
   "metadata": {},
   "outputs": [],
   "source": [
    "class GCN(torch.nn.Module):\n",
    "    def __init__(self):\n",
    "        super().__init__()\n",
    "        self.conv1 = GCNConv(graphs[0].num_features, 16)\n",
    "        self.conv2 = GCNConv(16, graphs[0].num_classes)\n",
    "\n",
    "    def forward(self, data):\n",
    "        x, edge_index = data.x, data.edge_index\n",
    "\n",
    "        x = self.conv1(x, edge_index)\n",
    "        x = F.relu(x)\n",
    "        #x = F.dropout(x, training=self.training)\n",
    "        x = self.conv2(x, edge_index)\n",
    "\n",
    "        return F.log_softmax(x, dim=1)\n"
   ]
  },
  {
   "cell_type": "code",
   "execution_count": 10,
   "id": "fbe92a5f",
   "metadata": {},
   "outputs": [],
   "source": [
    "device = torch.device('cuda')\n",
    "model = GCN().to(device)\n",
    "model = model.double()"
   ]
  },
  {
   "cell_type": "code",
   "execution_count": 11,
   "id": "50f9622b",
   "metadata": {},
   "outputs": [],
   "source": [
    "data = graphs[0].to(device)\n",
    "optimizer = torch.optim.Adam(model.parameters(), lr=0.01, weight_decay=5e-4)"
   ]
  },
  {
   "cell_type": "code",
   "execution_count": 15,
   "id": "af782ada",
   "metadata": {},
   "outputs": [],
   "source": [
    "model.train()\n",
    "for epoch in range(1000):\n",
    "    optimizer.zero_grad()\n",
    "    out = model(data)\n",
    "    loss = F.nll_loss(out,data.y)\n",
    "    loss.backward()\n",
    "    optimizer.step()"
   ]
  },
  {
   "cell_type": "code",
   "execution_count": 16,
   "id": "8eb6acd4",
   "metadata": {},
   "outputs": [
    {
     "name": "stdout",
     "output_type": "stream",
     "text": [
      "Accuracy: 0.9109\n"
     ]
    }
   ],
   "source": [
    "model.eval()\n",
    "pred = model(data).argmax(dim=1)\n",
    "correct = (pred == data.y).sum()\n",
    "acc = int(correct)/763\n",
    "print(f'Accuracy: {acc:.4f}')"
   ]
  },
  {
   "cell_type": "code",
   "execution_count": 31,
   "id": "a6a32bf6",
   "metadata": {},
   "outputs": [
    {
     "name": "stdout",
     "output_type": "stream",
     "text": [
      "Accuracy: 0.9109\n",
      "Accuracy: 0.8229\n",
      "Accuracy: 0.8533\n",
      "Accuracy: 0.8551\n",
      "Accuracy: 0.8428\n",
      "Accuracy: 0.8595\n",
      "Accuracy: 0.8229\n",
      "Accuracy: 0.8599\n",
      "Accuracy: 0.9017\n",
      "Accuracy: 0.8395\n"
     ]
    }
   ],
   "source": [
    "sums=0\n",
    "for graph in graphs:\n",
    "    val_data=graph.to(device)\n",
    "    pred = model(val_data).argmax(dim=1)\n",
    "    correct = (pred == val_data.y).sum()\n",
    "    acc = int(correct)/val_data.y.size(dim=0)\n",
    "    sums =sums+  acc\n",
    "    print(f'Accuracy: {acc:.4f}')"
   ]
  },
  {
   "cell_type": "code",
   "execution_count": 32,
   "id": "71e3f99a",
   "metadata": {},
   "outputs": [
    {
     "data": {
      "text/plain": [
       "0.8568444354752167"
      ]
     },
     "execution_count": 32,
     "metadata": {},
     "output_type": "execute_result"
    }
   ],
   "source": [
    "sums/10"
   ]
  },
  {
   "cell_type": "code",
   "execution_count": null,
   "id": "52724a0d",
   "metadata": {},
   "outputs": [],
   "source": []
  }
 ],
 "metadata": {
  "kernelspec": {
   "display_name": "Python 3 (ipykernel)",
   "language": "python",
   "name": "python3"
  },
  "language_info": {
   "codemirror_mode": {
    "name": "ipython",
    "version": 3
   },
   "file_extension": ".py",
   "mimetype": "text/x-python",
   "name": "python",
   "nbconvert_exporter": "python",
   "pygments_lexer": "ipython3",
   "version": "3.9.5"
  }
 },
 "nbformat": 4,
 "nbformat_minor": 5
}
