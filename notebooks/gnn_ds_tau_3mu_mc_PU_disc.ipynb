{
 "cells": [
  {
   "cell_type": "code",
   "execution_count": 1,
   "id": "31aa0023",
   "metadata": {},
   "outputs": [],
   "source": [
    "import os\n",
    "import yaml\n",
    "import pickle\n",
    "import numpy as np\n",
    "import pandas as pd\n",
    "import itertools\n",
    "import scipy\n",
    "import torch\n",
    "import torch_geometric.datasets as datasets\n",
    "import torch_geometric.data as Data\n",
    "from torch_geometric.loader import DataLoader\n",
    "import torch_geometric.transforms as transforms\n",
    "import networkx as nx\n",
    "from torch_geometric.utils.convert import to_networkx\n",
    "import matplotlib.pyplot as plt\n",
    "\n",
    "from produce_dataset import *\n",
    "\n",
    "import torch.nn.functional as F\n",
    "from torch_geometric.nn import GCNConv"
   ]
  },
  {
   "cell_type": "code",
   "execution_count": 2,
   "id": "9721939a",
   "metadata": {},
   "outputs": [],
   "source": [
    "#one event from: Phase2HLTTDRWinter20DIGI/DsToTauTo3Mu_TuneCP5_14TeV-pythia8/GEN-SIM-DIGI-RAW/PU200_withNewMB_110X_mcRun4_realistic_v3_ext1-v1/\n",
    "\n",
    "ntuple_dir = '/ecoderemdvol/econ_ntuples/DsToTauTo3Mu/'\n",
    "root_dir = 'FloatingpointAutoEncoderEMDAEMSEttbarDummyHistomaxGenmatchGenclustersntuple'\n",
    "\n",
    "df_econ = loadEconData(ntuple_dir,root_dir,'econ_data.csv',False)\n",
    "\n",
    "df_gen = loadGenData(ntuple_dir,root_dir,'gen_data.csv')"
   ]
  },
  {
   "cell_type": "code",
   "execution_count": 3,
   "id": "0d694472",
   "metadata": {},
   "outputs": [
    {
     "name": "stdout",
     "output_type": "stream",
     "text": [
      "e wafers: 1904, out of: 310152 or  0.61%\n"
     ]
    }
   ],
   "source": [
    "df_nodes=df_econ[['ECON_0', 'ECON_1', 'ECON_2', 'ECON_3', 'ECON_4', 'ECON_5', 'ECON_6',\n",
    "       'ECON_7', 'ECON_8', 'ECON_9', 'ECON_10', 'ECON_11', 'ECON_12','ECON_13', 'ECON_14', 'ECON_15', \n",
    "        'wafer_energy', 'tc_eta', 'tc_phi']]\n",
    "df_nodes.reset_index(inplace=True)\n",
    "\n",
    "count = (df_econ['wafer_energy'] != 0).sum()\n",
    "print('e wafers: '+str(count)+', out of: '+str(df_econ.size)+' or  '+ str(round((count/df_econ.size)*100,2))+'%')"
   ]
  },
  {
   "cell_type": "code",
   "execution_count": 4,
   "id": "96e27d5e",
   "metadata": {},
   "outputs": [
    {
     "name": "stderr",
     "output_type": "stream",
     "text": [
      "/opt/conda/lib/python3.9/site-packages/pandas/core/frame.py:3607: SettingWithCopyWarning: \n",
      "A value is trying to be set on a copy of a slice from a DataFrame.\n",
      "Try using .loc[row_indexer,col_indexer] = value instead\n",
      "\n",
      "See the caveats in the documentation: https://pandas.pydata.org/pandas-docs/stable/user_guide/indexing.html#returning-a-view-versus-a-copy\n",
      "  self._set_item(key, value)\n"
     ]
    }
   ],
   "source": [
    "cols = ['ECON_0', 'ECON_1', 'ECON_2', 'ECON_3', 'ECON_4', 'ECON_5', 'ECON_6',\n",
    "       'ECON_7', 'ECON_8', 'ECON_9', 'ECON_10', 'ECON_11', 'ECON_12','ECON_13', 'ECON_14', 'ECON_15']\n",
    "\n",
    "#find sum of columns specified \n",
    "df_nodes['sum'] = df_nodes[cols].sum(axis=1);"
   ]
  },
  {
   "cell_type": "code",
   "execution_count": 5,
   "id": "774c0153",
   "metadata": {},
   "outputs": [
    {
     "data": {
      "image/png": "[encoded data removed]",
      "text/plain": [
       "<Figure size 1080x360 with 6 Axes>"
      ]
     },
     "metadata": {
      "needs_background": "light"
     },
     "output_type": "display_data"
    }
   ],
   "source": [
    "fig, axes = plt.subplots(1,3,figsize=(15,5))\n",
    "plt.subplot(1,3,1)\n",
    "h1 = plt.hist2d(x=abs(df_nodes['tc_eta']),y=df_nodes['tc_phi'],bins=(10,12),weights=df_nodes['sum'])\n",
    "fig.colorbar(h1[3],label='sum_econ')\n",
    "plt.xlabel(r'$|\\eta|$');\n",
    "plt.ylabel(r'$\\phi$');\n",
    "plt.title('Encoded event with PU');\n",
    "plt.subplot(1,3,2)\n",
    "h2 = plt.hist2d(x=df_nodes['tc_eta'],y=df_nodes['tc_phi'],bins=(10,12),weights=df_nodes['wafer_energy'])\n",
    "fig.colorbar(h2[3])\n",
    "plt.xlabel(r'$\\eta$');\n",
    "plt.title('simenergy');\n",
    "df_nodes_w_simenergy = df_nodes[df_nodes.wafer_energy>0]\n",
    "plt.subplot(1,3,3)\n",
    "h3 = plt.hist2d(x=abs(df_nodes_w_simenergy['tc_eta']),y=df_nodes_w_simenergy['tc_phi'],bins=(10,12),weights=df_nodes_w_simenergy['sum'])\n",
    "fig.colorbar(h3[3])\n",
    "plt.xlabel(r'$|\\eta|$');\n",
    "plt.title('Encoded event without PU');"
   ]
  },
  {
   "cell_type": "markdown",
   "id": "bec822ac",
   "metadata": {},
   "source": [
    "event for 20 electrons"
   ]
  },
  {
   "cell_type": "code",
   "execution_count": 6,
   "id": "9a0eaacc",
   "metadata": {},
   "outputs": [],
   "source": [
    "def build_graph(df_econ,\n",
    "            df_gen,\n",
    "            zside_select,\n",
    "            phi_min,\n",
    "            phi_max):\n",
    "    \n",
    "    if zside_select !=0:\n",
    "        df_econ = df_econ[df_econ.zside == zside_select]\n",
    "\n",
    "    #only choose wafers in some phi range now\n",
    "    \n",
    "    df_econ = df_econ[df_econ.tc_phi>phi_min][df_econ.tc_phi<phi_max];\n",
    "    \n",
    "    df_nodes=df_econ[['ECON_0', 'ECON_1', 'ECON_2', 'ECON_3', 'ECON_4', 'ECON_5', 'ECON_6',\n",
    "           'ECON_7', 'ECON_8', 'ECON_9', 'ECON_10', 'ECON_11', 'ECON_12','ECON_13', 'ECON_14', 'ECON_15', \n",
    "            'wafer_energy', 'tc_eta', 'tc_phi']]\n",
    "    df_nodes.reset_index(inplace=True)\n",
    "    \n",
    "    embeddings = torch.tensor(df_nodes.values)\n",
    "\n",
    "    eta=df_nodes['tc_eta']\n",
    "    phi=df_nodes['tc_phi']\n",
    "    idx = range(len(eta))\n",
    "    indices_i = np.array([i for i,j in itertools.product(idx,idx)])\n",
    "    indices_j = np.array([j for i,j in itertools.product(idx,idx)])\n",
    "\n",
    "    del_R = np.empty([len(eta),len(eta)])\n",
    "    del_R.shape\n",
    "\n",
    "    for (i, j) in zip(indices_i,indices_j):\n",
    "        del_R[i][j]=np.sqrt((eta[i]-eta[j])**2+((phi[i]-phi[j])%(2*np.pi))**2)\n",
    "\n",
    "    del_R = torch.tensor(del_R)\n",
    "\n",
    "    adj = np.zeros([len(eta),len(eta)])\n",
    "    for (i, j) in zip(indices_i,indices_j):\n",
    "        if del_R[i][j] <0.045 and  del_R[i][j]> 0 :\n",
    "            adj[i][j]=1.0\n",
    "\n",
    "    adj=torch.tensor(adj) \n",
    "\n",
    "    edge_index = (adj > 0.0).nonzero().t()\n",
    "    edge_index.shape\n",
    "\n",
    "    #predict node level feature: PU vs electron per simenergy\n",
    "\n",
    "    feature_df= df_econ['wafer_energy']\n",
    "    labels = (feature_df.where(feature_df==0,other=1))\n",
    "    features = torch.tensor(labels.values).to(torch.long)\n",
    "\n",
    "    graph = Data.Data(x=embeddings, edge_index=edge_index, y=features)\n",
    "    graph.num_classes=2\n",
    "    return graph,df_nodes"
   ]
  },
  {
   "cell_type": "code",
   "execution_count": 7,
   "id": "7a153d9d",
   "metadata": {},
   "outputs": [],
   "source": [
    "#Choose only front endcap for training\n",
    "\n",
    "#df_gen = (df_gen[df_gen.eta>0])\n",
    "#df_gen.reset_index(drop=True,inplace=True)"
   ]
  },
  {
   "cell_type": "code",
   "execution_count": 8,
   "id": "7aee84d2",
   "metadata": {},
   "outputs": [],
   "source": [
    "graphs = []\n",
    "cut_event_dfs=[]"
   ]
  },
  {
   "cell_type": "code",
   "execution_count": 9,
   "id": "3bb08221",
   "metadata": {},
   "outputs": [],
   "source": [
    "phi_range = np.linspace(-np.pi,np.pi,20)"
   ]
  },
  {
   "cell_type": "code",
   "execution_count": 10,
   "id": "828ec728",
   "metadata": {},
   "outputs": [
    {
     "name": "stderr",
     "output_type": "stream",
     "text": [
      "/tmp/ipykernel_662/1296269495.py:12: UserWarning: Boolean Series key will be reindexed to match DataFrame index.\n",
      "  df_econ = df_econ[df_econ.tc_phi>phi_min][df_econ.tc_phi<phi_max];\n"
     ]
    }
   ],
   "source": [
    "for gen_phi in phi_range:\n",
    "    phi_min,phi_max= gen_phi-np.pi/12,gen_phi+np.pi/12\n",
    "    graph, cut_event_df = build_graph(df_econ,df_gen,0,phi_min,phi_max)\n",
    "    graphs.append(graph);\n",
    "    cut_event_dfs.append(cut_event_df)  "
   ]
  },
  {
   "cell_type": "code",
   "execution_count": 11,
   "id": "7dcfd2f4",
   "metadata": {},
   "outputs": [],
   "source": [
    "class GCN(torch.nn.Module):\n",
    "    def __init__(self):\n",
    "        super().__init__()\n",
    "        self.conv1 = GCNConv(graphs[0].num_features, 16)\n",
    "        self.conv2 = GCNConv(16, graphs[0].num_classes)\n",
    "\n",
    "    def forward(self, data):\n",
    "        x, edge_index = data.x, data.edge_index\n",
    "\n",
    "        x = self.conv1(x, edge_index)\n",
    "        x = F.relu(x)\n",
    "        x = F.dropout(x, training=self.training)\n",
    "        x = self.conv2(x, edge_index)\n",
    "\n",
    "        return F.log_softmax(x, dim=1)\n"
   ]
  },
  {
   "cell_type": "code",
   "execution_count": 46,
   "id": "fbe92a5f",
   "metadata": {},
   "outputs": [],
   "source": [
    "device = torch.device('cuda')\n",
    "model = GCN().to(device)\n",
    "model = model.double()"
   ]
  },
  {
   "cell_type": "code",
   "execution_count": 47,
   "id": "50f9622b",
   "metadata": {},
   "outputs": [],
   "source": [
    "data = graphs[0].to(device)\n",
    "optimizer = torch.optim.Adam(model.parameters(), lr=0.01, weight_decay=5e-4)"
   ]
  },
  {
   "cell_type": "code",
   "execution_count": 48,
   "id": "af782ada",
   "metadata": {},
   "outputs": [],
   "source": [
    "model.train()\n",
    "for epoch in range(1000):\n",
    "    optimizer.zero_grad()\n",
    "    out = model(data)\n",
    "    loss = F.nll_loss(out,data.y)\n",
    "    loss.backward()\n",
    "    optimizer.step()"
   ]
  },
  {
   "cell_type": "code",
   "execution_count": 49,
   "id": "8eb6acd4",
   "metadata": {},
   "outputs": [
    {
     "name": "stdout",
     "output_type": "stream",
     "text": [
      "Accuracy: 0.8734\n"
     ]
    }
   ],
   "source": [
    "model.eval()\n",
    "train_pred = model(data).argmax(dim=1)\n",
    "correct = (train_pred == data.y).sum()\n",
    "train_acc = int(correct)/graphs[0].y.size(dim=0)\n",
    "print(f'Accuracy: {train_acc:.4f}')"
   ]
  },
  {
   "cell_type": "code",
   "execution_count": 50,
   "id": "dc416e37",
   "metadata": {},
   "outputs": [],
   "source": [
    "xtest=train_pred.cpu().numpy()"
   ]
  },
  {
   "cell_type": "code",
   "execution_count": 51,
   "id": "bc8bf665",
   "metadata": {},
   "outputs": [
    {
     "data": {
      "text/plain": [
       "[<matplotlib.lines.Line2D at 0x7fcd58f105b0>]"
      ]
     },
     "execution_count": 51,
     "metadata": {},
     "output_type": "execute_result"
    },
    {
     "data": {
      "image/png": "[encoded data removed]",
      "text/plain": [
       "<Figure size 432x288 with 1 Axes>"
      ]
     },
     "metadata": {
      "needs_background": "light"
     },
     "output_type": "display_data"
    }
   ],
   "source": [
    "plt.plot(range(len(xtest)),xtest)"
   ]
  },
  {
   "cell_type": "code",
   "execution_count": 52,
   "id": "a6a32bf6",
   "metadata": {},
   "outputs": [],
   "source": [
    "acc_array=[]\n",
    "pred_array=[]\n",
    "for graph in graphs:\n",
    "    val_data=graph.to(device)\n",
    "    pred = model(val_data).argmax(dim=1)\n",
    "    pred_array.append(pred)\n",
    "    correct = (pred == val_data.y).sum()\n",
    "    acc = int(correct)/val_data.y.size(dim=0)\n",
    "    acc_array.append(acc)\n",
    "    #print(f'Accuracy: {acc:.4f}')"
   ]
  },
  {
   "cell_type": "code",
   "execution_count": 53,
   "id": "22215c20",
   "metadata": {},
   "outputs": [
    {
     "data": {
      "text/plain": [
       "0.85080266863577"
      ]
     },
     "execution_count": 53,
     "metadata": {},
     "output_type": "execute_result"
    }
   ],
   "source": [
    "np.asarray(acc_array).mean()"
   ]
  },
  {
   "cell_type": "code",
   "execution_count": 54,
   "id": "d8705434",
   "metadata": {},
   "outputs": [
    {
     "data": {
      "image/png": "[encoded data removed]",
      "text/plain": [
       "<Figure size 432x288 with 1 Axes>"
      ]
     },
     "metadata": {
      "needs_background": "light"
     },
     "output_type": "display_data"
    }
   ],
   "source": [
    "xs = df_gen['phi']\n",
    "ys = acc_array\n",
    "\n",
    "xs, ys = zip(*sorted(zip(xs, ys)))\n",
    "\n",
    "plt.plot(xs, ys);\n",
    "plt.scatter(df_gen['phi'][0],train_acc,label='train_graph');\n",
    "plt.xlabel('gen_phi')\n",
    "plt.ylabel('accuracy')\n",
    "plt.legend()\n",
    "plt.title('acc vs gen_phi');"
   ]
  },
  {
   "cell_type": "code",
   "execution_count": 55,
   "id": "a2853279",
   "metadata": {
    "scrolled": true
   },
   "outputs": [
    {
     "data": {
      "image/png": "[encoded data removed]",
      "text/plain": [
       "<Figure size 432x288 with 1 Axes>"
      ]
     },
     "metadata": {
      "needs_background": "light"
     },
     "output_type": "display_data"
    }
   ],
   "source": [
    "xs =(df_gen['eta'])\n",
    "ys = acc_array\n",
    "\n",
    "xs, ys = zip(*sorted(zip(xs, ys)))\n",
    "\n",
    "plt.plot(xs, ys)\n",
    "plt.xlim(-3,3)\n",
    "plt.scatter(df_gen['eta'][0],train_acc)\n",
    "plt.xlabel('gen_eta')\n",
    "#plt.xscale('log')\n",
    "plt.ylabel('accuracy')\n",
    "plt.title('acc vs abs(eta)');"
   ]
  },
  {
   "cell_type": "code",
   "execution_count": 56,
   "id": "40dff68f",
   "metadata": {},
   "outputs": [],
   "source": [
    "for i in range(20):\n",
    "    cut_event_dfs[i]['pred_label'] =  pred_array[i].cpu().numpy()"
   ]
  },
  {
   "cell_type": "code",
   "execution_count": 57,
   "id": "378a1908",
   "metadata": {},
   "outputs": [],
   "source": [
    "test=cut_event_dfs[0]"
   ]
  },
  {
   "cell_type": "code",
   "execution_count": 58,
   "id": "8579a1f3",
   "metadata": {},
   "outputs": [],
   "source": [
    "GNN_PU_removed_event_dfs=[]\n",
    "for i in range(20):\n",
    "    app = cut_event_dfs[i]\n",
    "    GNN_PU_removed_event_dfs.append(app[app.pred_label==1])"
   ]
  },
  {
   "cell_type": "code",
   "execution_count": 59,
   "id": "f767f0c3",
   "metadata": {},
   "outputs": [],
   "source": [
    "GNN_PU_removed_event=GNN_PU_removed_event_dfs[0]\n",
    "for i in range(1,20):\n",
    "    app = GNN_PU_removed_event_dfs[i]\n",
    "    GNN_PU_removed_event=pd.concat([GNN_PU_removed_event,app])"
   ]
  },
  {
   "cell_type": "code",
   "execution_count": 60,
   "id": "72181158",
   "metadata": {},
   "outputs": [
    {
     "data": {
      "text/html": [
       "<div>\n",
       "<style scoped>\n",
       "    .dataframe tbody tr th:only-of-type {\n",
       "        vertical-align: middle;\n",
       "    }\n",
       "\n",
       "    .dataframe tbody tr th {\n",
       "        vertical-align: top;\n",
       "    }\n",
       "\n",
       "    .dataframe thead th {\n",
       "        text-align: right;\n",
       "    }\n",
       "</style>\n",
       "<table border=\"1\" class=\"dataframe\">\n",
       "  <thead>\n",
       "    <tr style=\"text-align: right;\">\n",
       "      <th></th>\n",
       "      <th>index</th>\n",
       "      <th>ECON_0</th>\n",
       "      <th>ECON_1</th>\n",
       "      <th>ECON_2</th>\n",
       "      <th>ECON_3</th>\n",
       "      <th>ECON_4</th>\n",
       "      <th>ECON_5</th>\n",
       "      <th>ECON_6</th>\n",
       "      <th>ECON_7</th>\n",
       "      <th>ECON_8</th>\n",
       "      <th>...</th>\n",
       "      <th>ECON_10</th>\n",
       "      <th>ECON_11</th>\n",
       "      <th>ECON_12</th>\n",
       "      <th>ECON_13</th>\n",
       "      <th>ECON_14</th>\n",
       "      <th>ECON_15</th>\n",
       "      <th>wafer_energy</th>\n",
       "      <th>tc_eta</th>\n",
       "      <th>tc_phi</th>\n",
       "      <th>pred_label</th>\n",
       "    </tr>\n",
       "  </thead>\n",
       "  <tbody>\n",
       "    <tr>\n",
       "      <th>40</th>\n",
       "      <td>1360</td>\n",
       "      <td>0</td>\n",
       "      <td>128</td>\n",
       "      <td>0</td>\n",
       "      <td>320</td>\n",
       "      <td>128</td>\n",
       "      <td>0</td>\n",
       "      <td>64</td>\n",
       "      <td>64</td>\n",
       "      <td>64</td>\n",
       "      <td>...</td>\n",
       "      <td>64</td>\n",
       "      <td>128</td>\n",
       "      <td>192</td>\n",
       "      <td>0</td>\n",
       "      <td>64</td>\n",
       "      <td>64</td>\n",
       "      <td>0.000000</td>\n",
       "      <td>-2.000868</td>\n",
       "      <td>-2.976953</td>\n",
       "      <td>1</td>\n",
       "    </tr>\n",
       "    <tr>\n",
       "      <th>192</th>\n",
       "      <td>7014</td>\n",
       "      <td>0</td>\n",
       "      <td>64</td>\n",
       "      <td>64</td>\n",
       "      <td>64</td>\n",
       "      <td>192</td>\n",
       "      <td>0</td>\n",
       "      <td>128</td>\n",
       "      <td>128</td>\n",
       "      <td>64</td>\n",
       "      <td>...</td>\n",
       "      <td>64</td>\n",
       "      <td>128</td>\n",
       "      <td>128</td>\n",
       "      <td>128</td>\n",
       "      <td>64</td>\n",
       "      <td>128</td>\n",
       "      <td>0.063009</td>\n",
       "      <td>-2.023427</td>\n",
       "      <td>-2.984554</td>\n",
       "      <td>1</td>\n",
       "    </tr>\n",
       "    <tr>\n",
       "      <th>207</th>\n",
       "      <td>7540</td>\n",
       "      <td>0</td>\n",
       "      <td>128</td>\n",
       "      <td>128</td>\n",
       "      <td>0</td>\n",
       "      <td>256</td>\n",
       "      <td>0</td>\n",
       "      <td>128</td>\n",
       "      <td>64</td>\n",
       "      <td>64</td>\n",
       "      <td>...</td>\n",
       "      <td>64</td>\n",
       "      <td>0</td>\n",
       "      <td>64</td>\n",
       "      <td>256</td>\n",
       "      <td>64</td>\n",
       "      <td>64</td>\n",
       "      <td>0.079918</td>\n",
       "      <td>-2.011521</td>\n",
       "      <td>-2.987326</td>\n",
       "      <td>1</td>\n",
       "    </tr>\n",
       "    <tr>\n",
       "      <th>222</th>\n",
       "      <td>8089</td>\n",
       "      <td>0</td>\n",
       "      <td>96</td>\n",
       "      <td>128</td>\n",
       "      <td>176</td>\n",
       "      <td>96</td>\n",
       "      <td>0</td>\n",
       "      <td>128</td>\n",
       "      <td>64</td>\n",
       "      <td>112</td>\n",
       "      <td>...</td>\n",
       "      <td>176</td>\n",
       "      <td>96</td>\n",
       "      <td>160</td>\n",
       "      <td>80</td>\n",
       "      <td>80</td>\n",
       "      <td>112</td>\n",
       "      <td>0.043483</td>\n",
       "      <td>-2.014030</td>\n",
       "      <td>-2.980440</td>\n",
       "      <td>1</td>\n",
       "    </tr>\n",
       "    <tr>\n",
       "      <th>240</th>\n",
       "      <td>8664</td>\n",
       "      <td>0</td>\n",
       "      <td>140</td>\n",
       "      <td>144</td>\n",
       "      <td>60</td>\n",
       "      <td>128</td>\n",
       "      <td>0</td>\n",
       "      <td>104</td>\n",
       "      <td>84</td>\n",
       "      <td>112</td>\n",
       "      <td>...</td>\n",
       "      <td>100</td>\n",
       "      <td>144</td>\n",
       "      <td>172</td>\n",
       "      <td>92</td>\n",
       "      <td>120</td>\n",
       "      <td>132</td>\n",
       "      <td>0.377108</td>\n",
       "      <td>-2.008943</td>\n",
       "      <td>-2.984870</td>\n",
       "      <td>1</td>\n",
       "    </tr>\n",
       "    <tr>\n",
       "      <th>...</th>\n",
       "      <td>...</td>\n",
       "      <td>...</td>\n",
       "      <td>...</td>\n",
       "      <td>...</td>\n",
       "      <td>...</td>\n",
       "      <td>...</td>\n",
       "      <td>...</td>\n",
       "      <td>...</td>\n",
       "      <td>...</td>\n",
       "      <td>...</td>\n",
       "      <td>...</td>\n",
       "      <td>...</td>\n",
       "      <td>...</td>\n",
       "      <td>...</td>\n",
       "      <td>...</td>\n",
       "      <td>...</td>\n",
       "      <td>...</td>\n",
       "      <td>...</td>\n",
       "      <td>...</td>\n",
       "      <td>...</td>\n",
       "      <td>...</td>\n",
       "    </tr>\n",
       "    <tr>\n",
       "      <th>105</th>\n",
       "      <td>4059</td>\n",
       "      <td>0</td>\n",
       "      <td>192</td>\n",
       "      <td>64</td>\n",
       "      <td>64</td>\n",
       "      <td>192</td>\n",
       "      <td>0</td>\n",
       "      <td>64</td>\n",
       "      <td>64</td>\n",
       "      <td>192</td>\n",
       "      <td>...</td>\n",
       "      <td>128</td>\n",
       "      <td>256</td>\n",
       "      <td>128</td>\n",
       "      <td>192</td>\n",
       "      <td>64</td>\n",
       "      <td>128</td>\n",
       "      <td>0.000000</td>\n",
       "      <td>-2.009223</td>\n",
       "      <td>3.036521</td>\n",
       "      <td>1</td>\n",
       "    </tr>\n",
       "    <tr>\n",
       "      <th>114</th>\n",
       "      <td>4468</td>\n",
       "      <td>0</td>\n",
       "      <td>128</td>\n",
       "      <td>64</td>\n",
       "      <td>64</td>\n",
       "      <td>192</td>\n",
       "      <td>0</td>\n",
       "      <td>64</td>\n",
       "      <td>64</td>\n",
       "      <td>128</td>\n",
       "      <td>...</td>\n",
       "      <td>320</td>\n",
       "      <td>64</td>\n",
       "      <td>192</td>\n",
       "      <td>192</td>\n",
       "      <td>128</td>\n",
       "      <td>64</td>\n",
       "      <td>0.000000</td>\n",
       "      <td>1.653006</td>\n",
       "      <td>3.048055</td>\n",
       "      <td>1</td>\n",
       "    </tr>\n",
       "    <tr>\n",
       "      <th>133</th>\n",
       "      <td>4937</td>\n",
       "      <td>0</td>\n",
       "      <td>128</td>\n",
       "      <td>0</td>\n",
       "      <td>384</td>\n",
       "      <td>128</td>\n",
       "      <td>0</td>\n",
       "      <td>0</td>\n",
       "      <td>0</td>\n",
       "      <td>0</td>\n",
       "      <td>...</td>\n",
       "      <td>0</td>\n",
       "      <td>128</td>\n",
       "      <td>192</td>\n",
       "      <td>0</td>\n",
       "      <td>64</td>\n",
       "      <td>0</td>\n",
       "      <td>0.000000</td>\n",
       "      <td>1.634173</td>\n",
       "      <td>3.061863</td>\n",
       "      <td>1</td>\n",
       "    </tr>\n",
       "    <tr>\n",
       "      <th>167</th>\n",
       "      <td>5924</td>\n",
       "      <td>0</td>\n",
       "      <td>192</td>\n",
       "      <td>64</td>\n",
       "      <td>256</td>\n",
       "      <td>128</td>\n",
       "      <td>0</td>\n",
       "      <td>64</td>\n",
       "      <td>64</td>\n",
       "      <td>64</td>\n",
       "      <td>...</td>\n",
       "      <td>128</td>\n",
       "      <td>64</td>\n",
       "      <td>128</td>\n",
       "      <td>128</td>\n",
       "      <td>64</td>\n",
       "      <td>64</td>\n",
       "      <td>0.000000</td>\n",
       "      <td>1.630275</td>\n",
       "      <td>3.048949</td>\n",
       "      <td>1</td>\n",
       "    </tr>\n",
       "    <tr>\n",
       "      <th>217</th>\n",
       "      <td>7465</td>\n",
       "      <td>0</td>\n",
       "      <td>192</td>\n",
       "      <td>0</td>\n",
       "      <td>320</td>\n",
       "      <td>128</td>\n",
       "      <td>0</td>\n",
       "      <td>0</td>\n",
       "      <td>128</td>\n",
       "      <td>64</td>\n",
       "      <td>...</td>\n",
       "      <td>64</td>\n",
       "      <td>192</td>\n",
       "      <td>128</td>\n",
       "      <td>0</td>\n",
       "      <td>64</td>\n",
       "      <td>64</td>\n",
       "      <td>0.000000</td>\n",
       "      <td>1.724807</td>\n",
       "      <td>3.031298</td>\n",
       "      <td>1</td>\n",
       "    </tr>\n",
       "  </tbody>\n",
       "</table>\n",
       "<p>94 rows × 21 columns</p>\n",
       "</div>"
      ],
      "text/plain": [
       "     index  ECON_0  ECON_1  ECON_2  ECON_3  ECON_4  ECON_5  ECON_6  ECON_7  \\\n",
       "40    1360       0     128       0     320     128       0      64      64   \n",
       "192   7014       0      64      64      64     192       0     128     128   \n",
       "207   7540       0     128     128       0     256       0     128      64   \n",
       "222   8089       0      96     128     176      96       0     128      64   \n",
       "240   8664       0     140     144      60     128       0     104      84   \n",
       "..     ...     ...     ...     ...     ...     ...     ...     ...     ...   \n",
       "105   4059       0     192      64      64     192       0      64      64   \n",
       "114   4468       0     128      64      64     192       0      64      64   \n",
       "133   4937       0     128       0     384     128       0       0       0   \n",
       "167   5924       0     192      64     256     128       0      64      64   \n",
       "217   7465       0     192       0     320     128       0       0     128   \n",
       "\n",
       "     ECON_8  ...  ECON_10  ECON_11  ECON_12  ECON_13  ECON_14  ECON_15  \\\n",
       "40       64  ...       64      128      192        0       64       64   \n",
       "192      64  ...       64      128      128      128       64      128   \n",
       "207      64  ...       64        0       64      256       64       64   \n",
       "222     112  ...      176       96      160       80       80      112   \n",
       "240     112  ...      100      144      172       92      120      132   \n",
       "..      ...  ...      ...      ...      ...      ...      ...      ...   \n",
       "105     192  ...      128      256      128      192       64      128   \n",
       "114     128  ...      320       64      192      192      128       64   \n",
       "133       0  ...        0      128      192        0       64        0   \n",
       "167      64  ...      128       64      128      128       64       64   \n",
       "217      64  ...       64      192      128        0       64       64   \n",
       "\n",
       "     wafer_energy    tc_eta    tc_phi  pred_label  \n",
       "40       0.000000 -2.000868 -2.976953           1  \n",
       "192      0.063009 -2.023427 -2.984554           1  \n",
       "207      0.079918 -2.011521 -2.987326           1  \n",
       "222      0.043483 -2.014030 -2.980440           1  \n",
       "240      0.377108 -2.008943 -2.984870           1  \n",
       "..            ...       ...       ...         ...  \n",
       "105      0.000000 -2.009223  3.036521           1  \n",
       "114      0.000000  1.653006  3.048055           1  \n",
       "133      0.000000  1.634173  3.061863           1  \n",
       "167      0.000000  1.630275  3.048949           1  \n",
       "217      0.000000  1.724807  3.031298           1  \n",
       "\n",
       "[94 rows x 21 columns]"
      ]
     },
     "execution_count": 60,
     "metadata": {},
     "output_type": "execute_result"
    }
   ],
   "source": [
    "GNN_PU_removed_event"
   ]
  },
  {
   "cell_type": "code",
   "execution_count": 61,
   "id": "db11165f",
   "metadata": {},
   "outputs": [
    {
     "data": {
      "image/png": "[encoded data removed]",
      "text/plain": [
       "<Figure size 1080x360 with 6 Axes>"
      ]
     },
     "metadata": {
      "needs_background": "light"
     },
     "output_type": "display_data"
    }
   ],
   "source": [
    "fig, axes = plt.subplots(1,3,figsize=(15,5))\n",
    "plt.subplot(1,3,1)\n",
    "h1 = plt.hist2d(x=abs(df_nodes['tc_eta']),y=df_nodes['tc_phi'],bins=(10,12),weights=df_nodes['sum'])\n",
    "fig.colorbar(h1[3],label='sum_econ')\n",
    "plt.xlabel(r'$|\\eta|$');\n",
    "plt.ylabel(r'$\\phi$');\n",
    "plt.title('Encoded event with PU');\n",
    "plt.subplot(1,3,2)\n",
    "h2 = plt.hist2d(x=df_nodes['tc_eta'],y=df_nodes['tc_phi'],bins=(10,12),weights=df_nodes['wafer_energy'])\n",
    "fig.colorbar(h2[3])\n",
    "plt.xlabel(r'$\\eta$');\n",
    "plt.title('simenergy');\n",
    "df_nodes_w_simenergy = df_nodes[df_nodes.wafer_energy>0]\n",
    "plt.subplot(1,3,3)\n",
    "h3 = plt.hist2d(x=abs(df_nodes_w_simenergy['tc_eta']),y=df_nodes_w_simenergy['tc_phi'],bins=(10,12),weights=df_nodes_w_simenergy['sum'])\n",
    "fig.colorbar(h3[3])\n",
    "plt.xlabel(r'$|\\eta|$');\n",
    "plt.title('Encoded event without PU');"
   ]
  },
  {
   "cell_type": "code",
   "execution_count": 62,
   "id": "c58db017",
   "metadata": {},
   "outputs": [],
   "source": [
    "GNN_PU_removed_event['sum'] = GNN_PU_removed_event[cols].sum(axis=1);"
   ]
  },
  {
   "cell_type": "code",
   "execution_count": 66,
   "id": "27666a23",
   "metadata": {},
   "outputs": [
    {
     "data": {
      "image/png": "[encoded data removed]",
      "text/plain": [
       "<Figure size 1080x360 with 6 Axes>"
      ]
     },
     "metadata": {
      "needs_background": "light"
     },
     "output_type": "display_data"
    }
   ],
   "source": [
    "fig, axes = plt.subplots(1,3,figsize=(15,5))\n",
    "plt.subplot(1,3,1)\n",
    "h1 = plt.hist2d(x=abs(df_nodes['tc_eta']),y=df_nodes['tc_phi'],bins=(10,12),weights=df_nodes['sum'])\n",
    "fig.colorbar(h1[3],label='sum_econ')\n",
    "plt.xlabel(r'$|\\eta|$');\n",
    "plt.ylabel(r'$\\phi$');\n",
    "plt.title('Encoded event with PU');\n",
    "plt.subplot(1,3,2)\n",
    "h2 = plt.hist2d(x=GNN_PU_removed_event['tc_eta'],y=GNN_PU_removed_event['tc_phi'],bins=(10,12),weights=GNN_PU_removed_event['sum'])\n",
    "fig.colorbar(h2[3])\n",
    "plt.xlabel(r'$\\eta$');\n",
    "plt.title('GNN pred');\n",
    "plt.subplot(1,3,3)\n",
    "h3 = plt.hist2d(x=(df_nodes_w_simenergy['tc_eta']),y=df_nodes_w_simenergy['tc_phi'],bins=(10,12),weights=df_nodes_w_simenergy['sum'])\n",
    "fig.colorbar(h3[3])\n",
    "plt.xlabel(r'$|\\eta|$');\n",
    "plt.title('truth');\n",
    "plt.savefig('dstau3mu.png',dpi=600)"
   ]
  },
  {
   "cell_type": "code",
   "execution_count": 64,
   "id": "0ea721ed",
   "metadata": {},
   "outputs": [
    {
     "data": {
      "image/png": "[encoded data removed]",
      "text/plain": [
       "<Figure size 1080x360 with 6 Axes>"
      ]
     },
     "metadata": {
      "needs_background": "light"
     },
     "output_type": "display_data"
    }
   ],
   "source": [
    "fig, axes = plt.subplots(1,3,figsize=(15,5))\n",
    "plt.subplot(1,3,1)\n",
    "h1 = plt.hist2d(x=abs(df_nodes['tc_eta']),y=df_nodes['tc_phi'],bins=(10,12),weights=df_nodes['sum'])\n",
    "fig.colorbar(h1[3],label='sum_econ')\n",
    "plt.xlabel(r'$|\\eta|$');\n",
    "plt.ylabel(r'$\\phi$');\n",
    "plt.title('Encoded event with PU');\n",
    "plt.subplot(1,3,2)\n",
    "h2 = plt.hist2d(x=abs(GNN_PU_removed_event['tc_eta']),y=GNN_PU_removed_event['tc_phi'],bins=(10,12),weights=GNN_PU_removed_event['sum'])\n",
    "fig.colorbar(h2[3])\n",
    "plt.xlabel(r'$|\\eta|$');\n",
    "plt.title('GNN pred');\n",
    "plt.subplot(1,3,3)\n",
    "h3 = plt.hist2d(x=abs(df_nodes_w_simenergy['tc_eta']),y=df_nodes_w_simenergy['tc_phi'],bins=(10,12),weights=df_nodes_w_simenergy['sum'])\n",
    "fig.colorbar(h3[3])\n",
    "plt.xlabel(r'$|\\eta|$');\n",
    "plt.title('truth');"
   ]
  },
  {
   "cell_type": "code",
   "execution_count": null,
   "id": "d3823a76",
   "metadata": {},
   "outputs": [],
   "source": []
  }
 ],
 "metadata": {
  "kernelspec": {
   "display_name": "Python 3 (ipykernel)",
   "language": "python",
   "name": "python3"
  },
  "language_info": {
   "codemirror_mode": {
    "name": "ipython",
    "version": 3
   },
   "file_extension": ".py",
   "mimetype": "text/x-python",
   "name": "python",
   "nbconvert_exporter": "python",
   "pygments_lexer": "ipython3",
   "version": "3.9.5"
  }
 },
 "nbformat": 4,
 "nbformat_minor": 5
}
