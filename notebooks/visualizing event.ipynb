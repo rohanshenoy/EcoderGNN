{
 "cells": [
  {
   "cell_type": "code",
   "execution_count": 1,
   "id": "399a27d7",
   "metadata": {},
   "outputs": [],
   "source": [
    "import os\n",
    "import yaml\n",
    "import pickle\n",
    "import numpy as np\n",
    "import pandas as pd\n",
    "import itertools\n",
    "import scipy\n",
    "import torch\n",
    "import torch_geometric.datasets as datasets\n",
    "import torch_geometric.data as data\n",
    "import torch_geometric.transforms as transforms\n",
    "import networkx as nx\n",
    "from torch_geometric.utils.convert import to_networkx\n",
    "import matplotlib.pyplot as plt\n",
    "from scipy import stats\n",
    "from matplotlib.colors import LogNorm\n",
    "\n",
    "from produce_dataset import *"
   ]
  },
  {
   "cell_type": "code",
   "execution_count": 2,
   "id": "68586981",
   "metadata": {},
   "outputs": [],
   "source": [
    "ntuple_dir = '/ecoderemdvol/EleGun/EPGun-PU200/data/econ_ntuples/0002/'\n",
    "root_dir = 'FloatingpointAutoEncoderEMDAEMSEttbarDummyHistomaxGenmatchGenclustersntuple'\n",
    "#thresh_simenergy: False, read PU wafers too\n",
    "df_econ = loadEconData(ntuple_dir,root_dir,'econ_data.csv',False)\n",
    "\n",
    "df_gen = loadGenData(ntuple_dir,root_dir,'gen_data.csv')"
   ]
  },
  {
   "cell_type": "code",
   "execution_count": 3,
   "id": "beecc9a2",
   "metadata": {},
   "outputs": [
    {
     "data": {
      "text/html": [
       "<div>\n",
       "<style scoped>\n",
       "    .dataframe tbody tr th:only-of-type {\n",
       "        vertical-align: middle;\n",
       "    }\n",
       "\n",
       "    .dataframe tbody tr th {\n",
       "        vertical-align: top;\n",
       "    }\n",
       "\n",
       "    .dataframe thead th {\n",
       "        text-align: right;\n",
       "    }\n",
       "</style>\n",
       "<table border=\"1\" class=\"dataframe\">\n",
       "  <thead>\n",
       "    <tr style=\"text-align: right;\">\n",
       "      <th></th>\n",
       "      <th>index</th>\n",
       "      <th>ECON_0</th>\n",
       "      <th>ECON_1</th>\n",
       "      <th>ECON_2</th>\n",
       "      <th>ECON_3</th>\n",
       "      <th>ECON_4</th>\n",
       "      <th>ECON_5</th>\n",
       "      <th>ECON_6</th>\n",
       "      <th>ECON_7</th>\n",
       "      <th>ECON_8</th>\n",
       "      <th>ECON_9</th>\n",
       "      <th>ECON_10</th>\n",
       "      <th>ECON_11</th>\n",
       "      <th>ECON_12</th>\n",
       "      <th>ECON_13</th>\n",
       "      <th>ECON_14</th>\n",
       "      <th>ECON_15</th>\n",
       "      <th>wafer_energy</th>\n",
       "      <th>tc_eta</th>\n",
       "      <th>tc_phi</th>\n",
       "    </tr>\n",
       "  </thead>\n",
       "  <tbody>\n",
       "    <tr>\n",
       "      <th>0</th>\n",
       "      <td>0</td>\n",
       "      <td>0</td>\n",
       "      <td>128</td>\n",
       "      <td>0</td>\n",
       "      <td>128</td>\n",
       "      <td>128</td>\n",
       "      <td>0</td>\n",
       "      <td>128</td>\n",
       "      <td>128</td>\n",
       "      <td>192</td>\n",
       "      <td>64</td>\n",
       "      <td>64</td>\n",
       "      <td>64</td>\n",
       "      <td>192</td>\n",
       "      <td>128</td>\n",
       "      <td>64</td>\n",
       "      <td>128</td>\n",
       "      <td>0.0</td>\n",
       "      <td>-2.380200</td>\n",
       "      <td>2.320103</td>\n",
       "    </tr>\n",
       "    <tr>\n",
       "      <th>1</th>\n",
       "      <td>1</td>\n",
       "      <td>0</td>\n",
       "      <td>192</td>\n",
       "      <td>0</td>\n",
       "      <td>128</td>\n",
       "      <td>128</td>\n",
       "      <td>0</td>\n",
       "      <td>128</td>\n",
       "      <td>256</td>\n",
       "      <td>192</td>\n",
       "      <td>64</td>\n",
       "      <td>64</td>\n",
       "      <td>128</td>\n",
       "      <td>128</td>\n",
       "      <td>128</td>\n",
       "      <td>64</td>\n",
       "      <td>64</td>\n",
       "      <td>0.0</td>\n",
       "      <td>2.380200</td>\n",
       "      <td>2.320103</td>\n",
       "    </tr>\n",
       "    <tr>\n",
       "      <th>2</th>\n",
       "      <td>2</td>\n",
       "      <td>0</td>\n",
       "      <td>128</td>\n",
       "      <td>0</td>\n",
       "      <td>320</td>\n",
       "      <td>128</td>\n",
       "      <td>0</td>\n",
       "      <td>0</td>\n",
       "      <td>64</td>\n",
       "      <td>64</td>\n",
       "      <td>64</td>\n",
       "      <td>64</td>\n",
       "      <td>128</td>\n",
       "      <td>192</td>\n",
       "      <td>0</td>\n",
       "      <td>64</td>\n",
       "      <td>64</td>\n",
       "      <td>0.0</td>\n",
       "      <td>-2.386188</td>\n",
       "      <td>2.364755</td>\n",
       "    </tr>\n",
       "    <tr>\n",
       "      <th>3</th>\n",
       "      <td>3</td>\n",
       "      <td>0</td>\n",
       "      <td>256</td>\n",
       "      <td>128</td>\n",
       "      <td>128</td>\n",
       "      <td>128</td>\n",
       "      <td>0</td>\n",
       "      <td>128</td>\n",
       "      <td>256</td>\n",
       "      <td>0</td>\n",
       "      <td>64</td>\n",
       "      <td>0</td>\n",
       "      <td>192</td>\n",
       "      <td>64</td>\n",
       "      <td>128</td>\n",
       "      <td>128</td>\n",
       "      <td>64</td>\n",
       "      <td>0.0</td>\n",
       "      <td>-2.351344</td>\n",
       "      <td>2.769872</td>\n",
       "    </tr>\n",
       "    <tr>\n",
       "      <th>4</th>\n",
       "      <td>4</td>\n",
       "      <td>0</td>\n",
       "      <td>64</td>\n",
       "      <td>32</td>\n",
       "      <td>192</td>\n",
       "      <td>96</td>\n",
       "      <td>0</td>\n",
       "      <td>64</td>\n",
       "      <td>64</td>\n",
       "      <td>64</td>\n",
       "      <td>64</td>\n",
       "      <td>64</td>\n",
       "      <td>128</td>\n",
       "      <td>192</td>\n",
       "      <td>160</td>\n",
       "      <td>128</td>\n",
       "      <td>96</td>\n",
       "      <td>0.0</td>\n",
       "      <td>2.351344</td>\n",
       "      <td>2.769872</td>\n",
       "    </tr>\n",
       "    <tr>\n",
       "      <th>...</th>\n",
       "      <td>...</td>\n",
       "      <td>...</td>\n",
       "      <td>...</td>\n",
       "      <td>...</td>\n",
       "      <td>...</td>\n",
       "      <td>...</td>\n",
       "      <td>...</td>\n",
       "      <td>...</td>\n",
       "      <td>...</td>\n",
       "      <td>...</td>\n",
       "      <td>...</td>\n",
       "      <td>...</td>\n",
       "      <td>...</td>\n",
       "      <td>...</td>\n",
       "      <td>...</td>\n",
       "      <td>...</td>\n",
       "      <td>...</td>\n",
       "      <td>...</td>\n",
       "      <td>...</td>\n",
       "      <td>...</td>\n",
       "    </tr>\n",
       "    <tr>\n",
       "      <th>18152</th>\n",
       "      <td>18152</td>\n",
       "      <td>0</td>\n",
       "      <td>149</td>\n",
       "      <td>85</td>\n",
       "      <td>128</td>\n",
       "      <td>106</td>\n",
       "      <td>0</td>\n",
       "      <td>149</td>\n",
       "      <td>64</td>\n",
       "      <td>106</td>\n",
       "      <td>149</td>\n",
       "      <td>85</td>\n",
       "      <td>64</td>\n",
       "      <td>85</td>\n",
       "      <td>106</td>\n",
       "      <td>106</td>\n",
       "      <td>213</td>\n",
       "      <td>0.0</td>\n",
       "      <td>2.502979</td>\n",
       "      <td>2.501025</td>\n",
       "    </tr>\n",
       "    <tr>\n",
       "      <th>18153</th>\n",
       "      <td>18153</td>\n",
       "      <td>0</td>\n",
       "      <td>128</td>\n",
       "      <td>192</td>\n",
       "      <td>320</td>\n",
       "      <td>128</td>\n",
       "      <td>0</td>\n",
       "      <td>0</td>\n",
       "      <td>0</td>\n",
       "      <td>192</td>\n",
       "      <td>256</td>\n",
       "      <td>256</td>\n",
       "      <td>0</td>\n",
       "      <td>64</td>\n",
       "      <td>256</td>\n",
       "      <td>64</td>\n",
       "      <td>128</td>\n",
       "      <td>0.0</td>\n",
       "      <td>2.515603</td>\n",
       "      <td>2.327426</td>\n",
       "    </tr>\n",
       "    <tr>\n",
       "      <th>18154</th>\n",
       "      <td>18154</td>\n",
       "      <td>0</td>\n",
       "      <td>160</td>\n",
       "      <td>64</td>\n",
       "      <td>256</td>\n",
       "      <td>96</td>\n",
       "      <td>0</td>\n",
       "      <td>96</td>\n",
       "      <td>160</td>\n",
       "      <td>160</td>\n",
       "      <td>128</td>\n",
       "      <td>192</td>\n",
       "      <td>96</td>\n",
       "      <td>160</td>\n",
       "      <td>128</td>\n",
       "      <td>64</td>\n",
       "      <td>96</td>\n",
       "      <td>0.0</td>\n",
       "      <td>2.402795</td>\n",
       "      <td>2.174989</td>\n",
       "    </tr>\n",
       "    <tr>\n",
       "      <th>18155</th>\n",
       "      <td>18155</td>\n",
       "      <td>0</td>\n",
       "      <td>288</td>\n",
       "      <td>256</td>\n",
       "      <td>64</td>\n",
       "      <td>96</td>\n",
       "      <td>0</td>\n",
       "      <td>64</td>\n",
       "      <td>256</td>\n",
       "      <td>32</td>\n",
       "      <td>64</td>\n",
       "      <td>96</td>\n",
       "      <td>128</td>\n",
       "      <td>160</td>\n",
       "      <td>64</td>\n",
       "      <td>96</td>\n",
       "      <td>64</td>\n",
       "      <td>0.0</td>\n",
       "      <td>2.379769</td>\n",
       "      <td>2.002501</td>\n",
       "    </tr>\n",
       "    <tr>\n",
       "      <th>18156</th>\n",
       "      <td>18156</td>\n",
       "      <td>0</td>\n",
       "      <td>64</td>\n",
       "      <td>64</td>\n",
       "      <td>64</td>\n",
       "      <td>192</td>\n",
       "      <td>0</td>\n",
       "      <td>64</td>\n",
       "      <td>128</td>\n",
       "      <td>64</td>\n",
       "      <td>128</td>\n",
       "      <td>192</td>\n",
       "      <td>128</td>\n",
       "      <td>192</td>\n",
       "      <td>64</td>\n",
       "      <td>192</td>\n",
       "      <td>192</td>\n",
       "      <td>0.0</td>\n",
       "      <td>2.311303</td>\n",
       "      <td>2.655125</td>\n",
       "    </tr>\n",
       "  </tbody>\n",
       "</table>\n",
       "<p>18157 rows × 20 columns</p>\n",
       "</div>"
      ],
      "text/plain": [
       "       index  ECON_0  ECON_1  ECON_2  ECON_3  ECON_4  ECON_5  ECON_6  ECON_7  \\\n",
       "0          0       0     128       0     128     128       0     128     128   \n",
       "1          1       0     192       0     128     128       0     128     256   \n",
       "2          2       0     128       0     320     128       0       0      64   \n",
       "3          3       0     256     128     128     128       0     128     256   \n",
       "4          4       0      64      32     192      96       0      64      64   \n",
       "...      ...     ...     ...     ...     ...     ...     ...     ...     ...   \n",
       "18152  18152       0     149      85     128     106       0     149      64   \n",
       "18153  18153       0     128     192     320     128       0       0       0   \n",
       "18154  18154       0     160      64     256      96       0      96     160   \n",
       "18155  18155       0     288     256      64      96       0      64     256   \n",
       "18156  18156       0      64      64      64     192       0      64     128   \n",
       "\n",
       "       ECON_8  ECON_9  ECON_10  ECON_11  ECON_12  ECON_13  ECON_14  ECON_15  \\\n",
       "0         192      64       64       64      192      128       64      128   \n",
       "1         192      64       64      128      128      128       64       64   \n",
       "2          64      64       64      128      192        0       64       64   \n",
       "3           0      64        0      192       64      128      128       64   \n",
       "4          64      64       64      128      192      160      128       96   \n",
       "...       ...     ...      ...      ...      ...      ...      ...      ...   \n",
       "18152     106     149       85       64       85      106      106      213   \n",
       "18153     192     256      256        0       64      256       64      128   \n",
       "18154     160     128      192       96      160      128       64       96   \n",
       "18155      32      64       96      128      160       64       96       64   \n",
       "18156      64     128      192      128      192       64      192      192   \n",
       "\n",
       "       wafer_energy    tc_eta    tc_phi  \n",
       "0               0.0 -2.380200  2.320103  \n",
       "1               0.0  2.380200  2.320103  \n",
       "2               0.0 -2.386188  2.364755  \n",
       "3               0.0 -2.351344  2.769872  \n",
       "4               0.0  2.351344  2.769872  \n",
       "...             ...       ...       ...  \n",
       "18152           0.0  2.502979  2.501025  \n",
       "18153           0.0  2.515603  2.327426  \n",
       "18154           0.0  2.402795  2.174989  \n",
       "18155           0.0  2.379769  2.002501  \n",
       "18156           0.0  2.311303  2.655125  \n",
       "\n",
       "[18157 rows x 20 columns]"
      ]
     },
     "execution_count": 3,
     "metadata": {},
     "output_type": "execute_result"
    }
   ],
   "source": [
    "df_nodes=df_econ[['ECON_0', 'ECON_1', 'ECON_2', 'ECON_3', 'ECON_4', 'ECON_5', 'ECON_6',\n",
    "       'ECON_7', 'ECON_8', 'ECON_9', 'ECON_10', 'ECON_11', 'ECON_12','ECON_13', 'ECON_14', 'ECON_15', \n",
    "        'wafer_energy', 'tc_eta', 'tc_phi']]\n",
    "df_nodes.reset_index(inplace=True)\n",
    "df_nodes"
   ]
  },
  {
   "cell_type": "code",
   "execution_count": 4,
   "id": "4012c67d",
   "metadata": {},
   "outputs": [
    {
     "name": "stdout",
     "output_type": "stream",
     "text": [
      "1387\n"
     ]
    }
   ],
   "source": [
    "count = (df_econ['wafer_energy'] != 0).sum()\n",
    "print(count)"
   ]
  },
  {
   "cell_type": "code",
   "execution_count": 5,
   "id": "15c117dc",
   "metadata": {},
   "outputs": [
    {
     "name": "stderr",
     "output_type": "stream",
     "text": [
      "/opt/conda/lib/python3.9/site-packages/pandas/core/frame.py:3607: SettingWithCopyWarning: \n",
      "A value is trying to be set on a copy of a slice from a DataFrame.\n",
      "Try using .loc[row_indexer,col_indexer] = value instead\n",
      "\n",
      "See the caveats in the documentation: https://pandas.pydata.org/pandas-docs/stable/user_guide/indexing.html#returning-a-view-versus-a-copy\n",
      "  self._set_item(key, value)\n"
     ]
    }
   ],
   "source": [
    "cols = ['ECON_0', 'ECON_1', 'ECON_2', 'ECON_3', 'ECON_4', 'ECON_5', 'ECON_6',\n",
    "       'ECON_7', 'ECON_8', 'ECON_9', 'ECON_10', 'ECON_11', 'ECON_12','ECON_13', 'ECON_14', 'ECON_15']\n",
    "\n",
    "#find sum of columns specified \n",
    "df_nodes['sum'] = df_nodes[cols].sum(axis=1)"
   ]
  },
  {
   "cell_type": "code",
   "execution_count": 6,
   "id": "14e2a882",
   "metadata": {},
   "outputs": [],
   "source": [
    "df_nodes.reset_index(drop=True,inplace=True)"
   ]
  },
  {
   "cell_type": "code",
   "execution_count": 7,
   "id": "f5565955",
   "metadata": {},
   "outputs": [
    {
     "data": {
      "image/png": "[encoded data removed]",
      "text/plain": [
       "<Figure size 432x288 with 1 Axes>"
      ]
     },
     "metadata": {
      "needs_background": "light"
     },
     "output_type": "display_data"
    }
   ],
   "source": [
    "x=abs(df_nodes['tc_eta'])\n",
    "y=df_nodes['sum']\n",
    "        \n",
    "nbins=8\n",
    "lims=None\n",
    "stats=True\n",
    "if lims==None: lims = (x.min(),x.max())\n",
    "median_result = scipy.stats.binned_statistic(x, y, bins=nbins, range=lims, statistic=lambda x: np.quantile(x,0.5))\n",
    "lo_result     = scipy.stats.binned_statistic(x, y, bins=nbins, range=lims, statistic=lambda x: np.quantile(x,0.5-0.68/2))\n",
    "hi_result     = scipy.stats.binned_statistic(x, y, bins=nbins, range=lims, statistic=lambda x: np.quantile(x,0.5+0.68/2))\n",
    "median = np.nan_to_num(median_result.statistic)\n",
    "hi = np.nan_to_num(hi_result.statistic)\n",
    "lo = np.nan_to_num(lo_result.statistic)\n",
    "hie = hi-median\n",
    "loe = median-lo\n",
    "bin_edges = median_result.bin_edges\n",
    "bin_centers = (bin_edges[:-1] + bin_edges[1:])/2.\n",
    "\n",
    "plt.ylabel('sum_econ')\n",
    "plt.xlabel(r'$|\\eta|}$')\n",
    "plt.errorbar(x=bin_centers, y=median, yerr=[loe,hie])\n",
    "plt.title(r'sum_econ vs $\\eta$');\n"
   ]
  },
  {
   "cell_type": "code",
   "execution_count": 8,
   "id": "cac7b0c5",
   "metadata": {},
   "outputs": [
    {
     "data": {
      "text/plain": [
       "Text(0.5, 1.0, 'sim energy vs $|\\\\eta|$')"
      ]
     },
     "execution_count": 8,
     "metadata": {},
     "output_type": "execute_result"
    },
    {
     "data": {
      "image/png": "[encoded data removed]",
      "text/plain": [
       "<Figure size 432x288 with 1 Axes>"
      ]
     },
     "metadata": {
      "needs_background": "light"
     },
     "output_type": "display_data"
    }
   ],
   "source": [
    "x=abs(df_nodes['tc_eta'])\n",
    "y=df_nodes['wafer_energy']\n",
    "        \n",
    "nbins=20\n",
    "lims=None\n",
    "stats=True\n",
    "if lims==None: lims = (x.min(),x.max())\n",
    "median_result = scipy.stats.binned_statistic(x, y, bins=nbins, range=lims, statistic=lambda x: np.quantile(x,0.5))\n",
    "lo_result     = scipy.stats.binned_statistic(x, y, bins=nbins, range=lims, statistic=lambda x: np.quantile(x,0.5-0.68/2))\n",
    "hi_result     = scipy.stats.binned_statistic(x, y, bins=nbins, range=lims, statistic=lambda x: np.quantile(x,0.5+0.68/2))\n",
    "median = np.nan_to_num(median_result.statistic)\n",
    "hi = np.nan_to_num(hi_result.statistic)\n",
    "lo = np.nan_to_num(lo_result.statistic)\n",
    "hie = hi-median\n",
    "loe = median-lo\n",
    "bin_edges = median_result.bin_edges\n",
    "bin_centers = (bin_edges[:-1] + bin_edges[1:])/2.\n",
    "\n",
    "plt.ylabel('wafer_energy')\n",
    "plt.xlabel(r'$|\\eta|$')\n",
    "plt.errorbar(x=bin_centers, y=median, yerr=[loe,hie])\n",
    "plt.title(r'sim energy vs $|\\eta|$')\n"
   ]
  },
  {
   "cell_type": "code",
   "execution_count": 9,
   "id": "63463216",
   "metadata": {},
   "outputs": [
    {
     "data": {
      "image/png": "[encoded data removed]",
      "text/plain": [
       "<Figure size 432x288 with 1 Axes>"
      ]
     },
     "metadata": {
      "needs_background": "light"
     },
     "output_type": "display_data"
    }
   ],
   "source": [
    "x=df_nodes['tc_phi']\n",
    "y=df_nodes['sum']\n",
    "        \n",
    "nbins=8\n",
    "lims=None\n",
    "stats=True\n",
    "if lims==None: lims = (x.min(),x.max())\n",
    "median_result = scipy.stats.binned_statistic(x, y, bins=nbins, range=lims, statistic=lambda x: np.quantile(x,0.5))\n",
    "lo_result     = scipy.stats.binned_statistic(x, y, bins=nbins, range=lims, statistic=lambda x: np.quantile(x,0.5-0.68/2))\n",
    "hi_result     = scipy.stats.binned_statistic(x, y, bins=nbins, range=lims, statistic=lambda x: np.quantile(x,0.5+0.68/2))\n",
    "median = np.nan_to_num(median_result.statistic)\n",
    "hi = np.nan_to_num(hi_result.statistic)\n",
    "lo = np.nan_to_num(lo_result.statistic)\n",
    "hie = hi-median\n",
    "loe = median-lo\n",
    "bin_edges = median_result.bin_edges\n",
    "bin_centers = (bin_edges[:-1] + bin_edges[1:])/2.\n",
    "plt.ylabel('sum_econ')\n",
    "plt.xlabel(r'$\\phi$')\n",
    "plt.errorbar(x=bin_centers, y=median, yerr=[loe,hie])\n",
    "plt.title(r'sum_econ vs $\\phi$');"
   ]
  },
  {
   "cell_type": "code",
   "execution_count": 10,
   "id": "de665db5",
   "metadata": {},
   "outputs": [
    {
     "data": {
      "image/png": "[encoded data removed]",
      "text/plain": [
       "<Figure size 432x288 with 1 Axes>"
      ]
     },
     "metadata": {
      "needs_background": "light"
     },
     "output_type": "display_data"
    }
   ],
   "source": [
    "x=df_nodes['tc_phi']\n",
    "y=df_nodes['wafer_energy']\n",
    "        \n",
    "nbins=20\n",
    "lims=None\n",
    "stats=True\n",
    "if lims==None: lims = (x.min(),x.max())\n",
    "median_result = scipy.stats.binned_statistic(x, y, bins=nbins, range=lims, statistic=lambda x: np.quantile(x,0.5))\n",
    "lo_result     = scipy.stats.binned_statistic(x, y, bins=nbins, range=lims, statistic=lambda x: np.quantile(x,0.5-0.68/2))\n",
    "hi_result     = scipy.stats.binned_statistic(x, y, bins=nbins, range=lims, statistic=lambda x: np.quantile(x,0.5+0.68/2))\n",
    "median = np.nan_to_num(median_result.statistic)\n",
    "hi = np.nan_to_num(hi_result.statistic)\n",
    "lo = np.nan_to_num(lo_result.statistic)\n",
    "hie = hi-median\n",
    "loe = median-lo\n",
    "bin_edges = median_result.bin_edges\n",
    "bin_centers = (bin_edges[:-1] + bin_edges[1:])/2.\n",
    "plt.ylabel('sum_econ')\n",
    "plt.xlabel(r'$\\phi$')\n",
    "plt.errorbar(x=bin_centers, y=median, yerr=[loe,hie])\n",
    "plt.title(r'sim energy vs $\\phi$');"
   ]
  },
  {
   "cell_type": "code",
   "execution_count": 11,
   "id": "35131dc3",
   "metadata": {},
   "outputs": [
    {
     "data": {
      "image/png": "[encoded data removed]",
      "text/plain": [
       "<Figure size 360x360 with 2 Axes>"
      ]
     },
     "metadata": {
      "needs_background": "light"
     },
     "output_type": "display_data"
    }
   ],
   "source": [
    "fig, ax = plt.subplots(figsize=(5,5))\n",
    "h = ax.hist2d(x=df_nodes['tc_eta'],y=df_nodes['tc_phi'],bins=(10,12),weights=df_nodes['sum'])\n",
    "fig.colorbar(h[3], ax=ax)\n",
    "plt.xlabel(r'$\\eta$');\n",
    "plt.ylabel(r'$\\phi$');\n",
    "plt.title('Encoded event with PU');"
   ]
  },
  {
   "cell_type": "code",
   "execution_count": 12,
   "id": "be635e48",
   "metadata": {},
   "outputs": [
    {
     "data": {
      "image/png": "[encoded data removed]",
      "text/plain": [
       "<Figure size 360x360 with 2 Axes>"
      ]
     },
     "metadata": {
      "needs_background": "light"
     },
     "output_type": "display_data"
    }
   ],
   "source": [
    "fig, ax = plt.subplots(figsize=(5,5))\n",
    "h = ax.hist2d(x=abs(df_nodes['tc_eta']),y=df_nodes['tc_phi'],bins=(10,12),weights=df_nodes['sum'])\n",
    "fig.colorbar(h[3], ax=ax)\n",
    "plt.xlabel(r'$|\\eta|$');\n",
    "plt.ylabel(r'$\\phi$');\n",
    "plt.title('Encoded event with PU');"
   ]
  },
  {
   "cell_type": "code",
   "execution_count": 33,
   "id": "9c40a2c2",
   "metadata": {},
   "outputs": [
    {
     "data": {
      "image/png": "[encoded data removed]",
      "text/plain": [
       "<Figure size 360x360 with 2 Axes>"
      ]
     },
     "metadata": {
      "needs_background": "light"
     },
     "output_type": "display_data"
    }
   ],
   "source": [
    "df_nodes_w_simenergy = df_nodes[df_nodes.wafer_energy>0]\n",
    "fig, ax = plt.subplots(figsize=(5,5))\n",
    "h = ax.hist2d(x=abs(df_nodes_w_simenergy['tc_eta']),y=df_nodes_w_simenergy['tc_phi'],bins=(10,12),weights=df_nodes_w_simenergy['sum'])\n",
    "fig.colorbar(h[3], ax=ax)\n",
    "plt.xlabel(r'$\\eta$');\n",
    "plt.ylabel(r'$\\phi$');\n",
    "plt.title('Encoded event without PU');"
   ]
  },
  {
   "cell_type": "code",
   "execution_count": 14,
   "id": "7061bd1e",
   "metadata": {},
   "outputs": [
    {
     "data": {
      "image/png": "[encoded data removed]",
      "text/plain": [
       "<Figure size 360x360 with 2 Axes>"
      ]
     },
     "metadata": {
      "needs_background": "light"
     },
     "output_type": "display_data"
    }
   ],
   "source": [
    "fig, ax = plt.subplots(figsize=(5,5))\n",
    "h = ax.hist2d(x=abs(df_nodes['tc_eta']),y=df_nodes['tc_phi'],bins=(10,12),weights=df_nodes['wafer_energy'])\n",
    "fig.colorbar(h[3], ax=ax)\n",
    "plt.xlabel(r'$|\\eta|$');\n",
    "plt.ylabel(r'$\\phi$');\n",
    "plt.title('Encoded event without PU');"
   ]
  }
 ],
 "metadata": {
  "kernelspec": {
   "display_name": "Python 3 (ipykernel)",
   "language": "python",
   "name": "python3"
  },
  "language_info": {
   "codemirror_mode": {
    "name": "ipython",
    "version": 3
   },
   "file_extension": ".py",
   "mimetype": "text/x-python",
   "name": "python",
   "nbconvert_exporter": "python",
   "pygments_lexer": "ipython3",
   "version": "3.9.5"
  }
 },
 "nbformat": 4,
 "nbformat_minor": 5
}
