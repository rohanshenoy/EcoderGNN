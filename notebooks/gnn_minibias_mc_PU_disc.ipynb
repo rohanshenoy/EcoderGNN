{
 "cells": [
  {
   "cell_type": "code",
   "execution_count": 1,
   "id": "31aa0023",
   "metadata": {},
   "outputs": [],
   "source": [
    "import os\n",
    "import yaml\n",
    "import pickle\n",
    "import numpy as np\n",
    "import pandas as pd\n",
    "import itertools\n",
    "import scipy\n",
    "import torch\n",
    "import torch_geometric.datasets as datasets\n",
    "import torch_geometric.data as Data\n",
    "from torch_geometric.loader import DataLoader\n",
    "import torch_geometric.transforms as transforms\n",
    "import networkx as nx\n",
    "from torch_geometric.utils.convert import to_networkx\n",
    "import matplotlib.pyplot as plt\n",
    "\n",
    "from produce_dataset import *\n",
    "\n",
    "import torch.nn.functional as F\n",
    "from torch_geometric.nn import GCNConv"
   ]
  },
  {
   "cell_type": "code",
   "execution_count": 2,
   "id": "9721939a",
   "metadata": {},
   "outputs": [],
   "source": [
    "#one event from: Phase2HLTTDRWinter20DIGI/MinBias_TuneCP5_14TeV-pythia8/GEN-SIM-DIGI-RAW/PU200_withNewMB_110X_mcRun4_realistic_v3_ext1-v2/\n",
    "\n",
    "ntuple_dir = '/ecoderemdvol/econ_ntuples/MiniBias/'\n",
    "root_dir = 'FloatingpointAutoEncoderEMDAEMSEttbarDummyHistomaxGenmatchGenclustersntuple'\n",
    "\n",
    "df_econ = loadEconData(ntuple_dir,root_dir,'econ_data.csv',False)\n",
    "\n",
    "df_gen = loadGenData(ntuple_dir,root_dir,'gen_data.csv')"
   ]
  },
  {
   "cell_type": "code",
   "execution_count": 3,
   "id": "0d694472",
   "metadata": {},
   "outputs": [
    {
     "name": "stdout",
     "output_type": "stream",
     "text": [
      "e wafers: 301, out of: 327744 or  0.09%\n"
     ]
    }
   ],
   "source": [
    "df_nodes=df_econ[['ECON_0', 'ECON_1', 'ECON_2', 'ECON_3', 'ECON_4', 'ECON_5', 'ECON_6',\n",
    "       'ECON_7', 'ECON_8', 'ECON_9', 'ECON_10', 'ECON_11', 'ECON_12','ECON_13', 'ECON_14', 'ECON_15', \n",
    "        'wafer_energy', 'tc_eta', 'tc_phi']]\n",
    "df_nodes.reset_index(inplace=True)\n",
    "\n",
    "count = (df_econ['wafer_energy'] != 0).sum()\n",
    "print('e wafers: '+str(count)+', out of: '+str(df_econ.size)+' or  '+ str(round((count/df_econ.size)*100,2))+'%')"
   ]
  },
  {
   "cell_type": "code",
   "execution_count": 4,
   "id": "96e27d5e",
   "metadata": {},
   "outputs": [
    {
     "name": "stderr",
     "output_type": "stream",
     "text": [
      "/opt/conda/lib/python3.9/site-packages/pandas/core/frame.py:3607: SettingWithCopyWarning: \n",
      "A value is trying to be set on a copy of a slice from a DataFrame.\n",
      "Try using .loc[row_indexer,col_indexer] = value instead\n",
      "\n",
      "See the caveats in the documentation: https://pandas.pydata.org/pandas-docs/stable/user_guide/indexing.html#returning-a-view-versus-a-copy\n",
      "  self._set_item(key, value)\n"
     ]
    }
   ],
   "source": [
    "cols = ['ECON_0', 'ECON_1', 'ECON_2', 'ECON_3', 'ECON_4', 'ECON_5', 'ECON_6',\n",
    "       'ECON_7', 'ECON_8', 'ECON_9', 'ECON_10', 'ECON_11', 'ECON_12','ECON_13', 'ECON_14', 'ECON_15']\n",
    "\n",
    "#find sum of columns specified \n",
    "df_nodes['sum'] = df_nodes[cols].sum(axis=1);"
   ]
  },
  {
   "cell_type": "code",
   "execution_count": 5,
   "id": "774c0153",
   "metadata": {},
   "outputs": [
    {
     "data": {
      "image/png": "[encoded data removed]",
      "text/plain": [
       "<Figure size 1080x360 with 6 Axes>"
      ]
     },
     "metadata": {
      "needs_background": "light"
     },
     "output_type": "display_data"
    }
   ],
   "source": [
    "fig, axes = plt.subplots(1,3,figsize=(15,5))\n",
    "plt.subplot(1,3,1)\n",
    "h1 = plt.hist2d(x=abs(df_nodes['tc_eta']),y=df_nodes['tc_phi'],bins=(10,12),weights=df_nodes['sum'])\n",
    "fig.colorbar(h1[3],label='sum_econ')\n",
    "plt.xlabel(r'$|\\eta|$');\n",
    "plt.ylabel(r'$\\phi$');\n",
    "plt.title('Encoded event with PU');\n",
    "plt.subplot(1,3,2)\n",
    "h2 = plt.hist2d(x=df_nodes['tc_eta'],y=df_nodes['tc_phi'],bins=(10,12),weights=df_nodes['wafer_energy'])\n",
    "fig.colorbar(h2[3])\n",
    "plt.xlabel(r'$\\eta$');\n",
    "plt.title('simenergy');\n",
    "df_nodes_w_simenergy = df_nodes[df_nodes.wafer_energy>0]\n",
    "plt.subplot(1,3,3)\n",
    "h3 = plt.hist2d(x=(df_nodes_w_simenergy['tc_eta']),y=df_nodes_w_simenergy['tc_phi'],bins=(10,12),weights=df_nodes_w_simenergy['sum'])\n",
    "fig.colorbar(h3[3])\n",
    "plt.xlabel(r'$\\eta$');\n",
    "plt.title('Encoded event without PU');"
   ]
  },
  {
   "cell_type": "markdown",
   "id": "bec822ac",
   "metadata": {},
   "source": [
    "Minibias pp(?) event"
   ]
  },
  {
   "cell_type": "code",
   "execution_count": 6,
   "id": "9a0eaacc",
   "metadata": {},
   "outputs": [],
   "source": [
    "def build_graph(df_econ,\n",
    "            df_gen,\n",
    "            zside_select,\n",
    "            phi_min,\n",
    "            phi_max):\n",
    "    \n",
    "    if zside_select !=0:\n",
    "        df_econ = df_econ[df_econ.zside == zside_select]\n",
    "\n",
    "    #only choose wafers in some phi range now\n",
    "    \n",
    "    df_econ = df_econ[df_econ.tc_phi>phi_min][df_econ.tc_phi<phi_max];\n",
    "    \n",
    "    df_nodes=df_econ[['ECON_0', 'ECON_1', 'ECON_2', 'ECON_3', 'ECON_4', 'ECON_5', 'ECON_6',\n",
    "           'ECON_7', 'ECON_8', 'ECON_9', 'ECON_10', 'ECON_11', 'ECON_12','ECON_13', 'ECON_14', 'ECON_15', \n",
    "            'wafer_energy', 'tc_eta', 'tc_phi']]\n",
    "    df_nodes.reset_index(inplace=True)\n",
    "    \n",
    "    embeddings = torch.tensor(df_nodes.values)\n",
    "\n",
    "    eta=df_nodes['tc_eta']\n",
    "    phi=df_nodes['tc_phi']\n",
    "    idx = range(len(eta))\n",
    "    indices_i = np.array([i for i,j in itertools.product(idx,idx)])\n",
    "    indices_j = np.array([j for i,j in itertools.product(idx,idx)])\n",
    "\n",
    "    del_R = np.empty([len(eta),len(eta)])\n",
    "    del_R.shape\n",
    "\n",
    "    for (i, j) in zip(indices_i,indices_j):\n",
    "        del_R[i][j]=np.sqrt((eta[i]-eta[j])**2+((phi[i]-phi[j])%(2*np.pi))**2)\n",
    "\n",
    "    del_R = torch.tensor(del_R)\n",
    "\n",
    "    adj = np.zeros([len(eta),len(eta)])\n",
    "    for (i, j) in zip(indices_i,indices_j):\n",
    "        if del_R[i][j] <0.045 and  del_R[i][j]> 0 :\n",
    "            adj[i][j]=1.0\n",
    "\n",
    "    adj=torch.tensor(adj) \n",
    "\n",
    "    edge_index = (adj > 0.0).nonzero().t()\n",
    "    edge_index.shape\n",
    "\n",
    "    #predict node level feature: PU vs electron per simenergy\n",
    "\n",
    "    feature_df= df_econ['wafer_energy']\n",
    "    labels = (feature_df.where(feature_df==0,other=1))\n",
    "    features = torch.tensor(labels.values).to(torch.long)\n",
    "\n",
    "    graph = Data.Data(x=embeddings, edge_index=edge_index, y=features)\n",
    "    graph.num_classes=2\n",
    "    return graph,df_nodes"
   ]
  },
  {
   "cell_type": "code",
   "execution_count": 7,
   "id": "7a153d9d",
   "metadata": {},
   "outputs": [],
   "source": [
    "#Choose only front endcap for training\n",
    "\n",
    "#df_gen = (df_gen[df_gen.eta>0])\n",
    "#df_gen.reset_index(drop=True,inplace=True)"
   ]
  },
  {
   "cell_type": "code",
   "execution_count": 8,
   "id": "7aee84d2",
   "metadata": {},
   "outputs": [],
   "source": [
    "graphs = []\n",
    "cut_event_dfs=[]"
   ]
  },
  {
   "cell_type": "code",
   "execution_count": 9,
   "id": "3bb08221",
   "metadata": {},
   "outputs": [],
   "source": [
    "phi_range = np.linspace(-np.pi,np.pi,20)"
   ]
  },
  {
   "cell_type": "code",
   "execution_count": 10,
   "id": "828ec728",
   "metadata": {},
   "outputs": [
    {
     "name": "stderr",
     "output_type": "stream",
     "text": [
      "/tmp/ipykernel_246/1296269495.py:12: UserWarning: Boolean Series key will be reindexed to match DataFrame index.\n",
      "  df_econ = df_econ[df_econ.tc_phi>phi_min][df_econ.tc_phi<phi_max];\n"
     ]
    }
   ],
   "source": [
    "for gen_phi in phi_range:\n",
    "    phi_min,phi_max= gen_phi-np.pi/12,gen_phi+np.pi/12\n",
    "    graph, cut_event_df = build_graph(df_econ,df_gen,0,phi_min,phi_max)\n",
    "    graphs.append(graph);\n",
    "    cut_event_dfs.append(cut_event_df)  "
   ]
  },
  {
   "cell_type": "code",
   "execution_count": 11,
   "id": "7dcfd2f4",
   "metadata": {},
   "outputs": [],
   "source": [
    "class GCN(torch.nn.Module):\n",
    "    def __init__(self):\n",
    "        super().__init__()\n",
    "        self.conv1 = GCNConv(graphs[0].num_features, 16)\n",
    "        self.conv2 = GCNConv(16, graphs[0].num_classes)\n",
    "\n",
    "    def forward(self, data):\n",
    "        x, edge_index = data.x, data.edge_index\n",
    "\n",
    "        x = self.conv1(x, edge_index)\n",
    "        x = F.relu(x)\n",
    "        x = F.dropout(x, training=self.training)\n",
    "        x = self.conv2(x, edge_index)\n",
    "\n",
    "        return F.log_softmax(x, dim=1)\n"
   ]
  },
  {
   "cell_type": "code",
   "execution_count": 12,
   "id": "fbe92a5f",
   "metadata": {},
   "outputs": [],
   "source": [
    "device = torch.device('cuda')\n",
    "model = GCN().to(device)\n",
    "model = model.double()"
   ]
  },
  {
   "cell_type": "code",
   "execution_count": 13,
   "id": "50f9622b",
   "metadata": {},
   "outputs": [],
   "source": [
    "data = graphs[0].to(device)\n",
    "optimizer = torch.optim.Adam(model.parameters(), lr=0.01, weight_decay=5e-4)"
   ]
  },
  {
   "cell_type": "code",
   "execution_count": 14,
   "id": "af782ada",
   "metadata": {},
   "outputs": [],
   "source": [
    "model.train()\n",
    "for epoch in range(100):\n",
    "    optimizer.zero_grad()\n",
    "    out = model(data)\n",
    "    loss = F.nll_loss(out,data.y)\n",
    "    loss.backward()\n",
    "    optimizer.step()"
   ]
  },
  {
   "cell_type": "code",
   "execution_count": 15,
   "id": "8eb6acd4",
   "metadata": {},
   "outputs": [
    {
     "name": "stdout",
     "output_type": "stream",
     "text": [
      "Accuracy: 1.0000\n"
     ]
    }
   ],
   "source": [
    "model.eval()\n",
    "train_pred = model(data).argmax(dim=1)\n",
    "correct = (train_pred == data.y).sum()\n",
    "train_acc = int(correct)/graphs[0].y.size(dim=0)\n",
    "print(f'Accuracy: {train_acc:.4f}')"
   ]
  },
  {
   "cell_type": "code",
   "execution_count": 16,
   "id": "829ffef7",
   "metadata": {},
   "outputs": [
    {
     "data": {
      "text/plain": [
       "tensor([[     0.0000,  -3227.6775],\n",
       "        [     0.0000,   -670.8065],\n",
       "        [     0.0000,   -655.4251],\n",
       "        [     0.0000,   -633.9390],\n",
       "        [     0.0000,   -545.9276],\n",
       "        [     0.0000,   -660.5824],\n",
       "        [     0.0000,   -755.4337],\n",
       "        [     0.0000,   -911.2013],\n",
       "        [     0.0000,   -861.8318],\n",
       "        [     0.0000,  -1356.4809],\n",
       "        [     0.0000,  -4436.4980],\n",
       "        [     0.0000,  -6834.6455],\n",
       "        [     0.0000,  -1045.4278],\n",
       "        [     0.0000,   -726.4169],\n",
       "        [     0.0000,   -680.0359],\n",
       "        [     0.0000,  -2108.5853],\n",
       "        [     0.0000,  -2507.1434],\n",
       "        [     0.0000,   -802.5260],\n",
       "        [     0.0000,  -2386.4581],\n",
       "        [     0.0000,  -9233.0096],\n",
       "        [     0.0000, -10298.3352],\n",
       "        [     0.0000,  -1955.2443],\n",
       "        [     0.0000,  -1727.2318],\n",
       "        [     0.0000,   -901.9386],\n",
       "        [     0.0000,   -925.1309],\n",
       "        [     0.0000,  -1041.7176],\n",
       "        [     0.0000,   -908.5433],\n",
       "        [     0.0000,  -1842.0070],\n",
       "        [     0.0000,  -1851.3863],\n",
       "        [     0.0000,   -990.7812],\n",
       "        [     0.0000,  -1036.7805],\n",
       "        [     0.0000,  -1657.8698],\n",
       "        [     0.0000,   -944.4125],\n",
       "        [     0.0000,  -1334.6159],\n",
       "        [     0.0000,  -1028.8558],\n",
       "        [     0.0000, -10061.6360],\n",
       "        [     0.0000,  -2156.0433],\n",
       "        [     0.0000,  -1935.9639],\n",
       "        [     0.0000,  -1030.6646],\n",
       "        [     0.0000,  -1125.4301],\n",
       "        [     0.0000,  -1186.1242],\n",
       "        [     0.0000,  -1036.2105],\n",
       "        [     0.0000,  -1016.5641],\n",
       "        [     0.0000,  -8876.3985],\n",
       "        [     0.0000,  -1179.2670],\n",
       "        [     0.0000,  -7536.2787],\n",
       "        [     0.0000,  -4438.5723],\n",
       "        [     0.0000,  -4847.7407],\n",
       "        [     0.0000,  -4861.6055],\n",
       "        [     0.0000,  -1598.6781],\n",
       "        [     0.0000,  -6270.2835],\n",
       "        [     0.0000,  -1649.4759],\n",
       "        [     0.0000,  -1392.7204],\n",
       "        [     0.0000,  -1579.6240],\n",
       "        [     0.0000,  -1397.6325],\n",
       "        [     0.0000,  -2010.8843],\n",
       "        [     0.0000,  -2026.6915],\n",
       "        [     0.0000,  -1820.6485],\n",
       "        [     0.0000,  -1785.0953],\n",
       "        [     0.0000,  -1752.9804],\n",
       "        [     0.0000,  -1735.0079],\n",
       "        [     0.0000,  -2456.3599],\n",
       "        [     0.0000,  -2579.7131],\n",
       "        [     0.0000,  -1508.5803],\n",
       "        [     0.0000,  -1638.4420],\n",
       "        [     0.0000,  -1899.2618],\n",
       "        [     0.0000,  -1929.6155],\n",
       "        [     0.0000,  -2691.2436],\n",
       "        [     0.0000,  -2743.3796],\n",
       "        [     0.0000,  -5797.3884],\n",
       "        [     0.0000,  -1898.2763],\n",
       "        [     0.0000, -10033.8472],\n",
       "        [     0.0000,  -9254.1020],\n",
       "        [     0.0000,  -2008.6717],\n",
       "        [     0.0000,  -1915.8926],\n",
       "        [     0.0000,  -2002.7196],\n",
       "        [     0.0000,  -2049.3980],\n",
       "        [     0.0000,  -2404.5567],\n",
       "        [     0.0000,  -2696.2963],\n",
       "        [     0.0000,  -1468.0895],\n",
       "        [     0.0000,  -1448.6379],\n",
       "        [     0.0000,  -2065.2902],\n",
       "        [     0.0000,  -2668.3681],\n",
       "        [     0.0000,  -4797.8604],\n",
       "        [     0.0000,  -4862.2413],\n",
       "        [     0.0000,  -3286.7466],\n",
       "        [     0.0000,  -3416.2750],\n",
       "        [     0.0000,  -1687.4843],\n",
       "        [     0.0000,  -1846.7785],\n",
       "        [     0.0000,  -2911.8595],\n",
       "        [     0.0000,  -3078.5690],\n",
       "        [     0.0000,  -2128.8854],\n",
       "        [     0.0000,  -2185.6933],\n",
       "        [     0.0000,  -2445.3679],\n",
       "        [     0.0000,  -2330.4931],\n",
       "        [     0.0000,  -1985.5897],\n",
       "        [     0.0000,  -6584.0002],\n",
       "        [     0.0000,  -2322.2675],\n",
       "        [     0.0000,  -3928.0384],\n",
       "        [     0.0000,  -2130.4305],\n",
       "        [     0.0000,  -2152.2101],\n",
       "        [     0.0000,  -4437.1900],\n",
       "        [     0.0000,  -4316.0583],\n",
       "        [     0.0000,  -2421.4618],\n",
       "        [     0.0000,  -6280.8667],\n",
       "        [     0.0000,  -2733.5563],\n",
       "        [     0.0000,  -2586.4971],\n",
       "        [     0.0000,  -2947.0500],\n",
       "        [     0.0000,  -2598.1242],\n",
       "        [     0.0000,  -2614.4474],\n",
       "        [     0.0000,  -1771.8596],\n",
       "        [     0.0000,  -4507.7388],\n",
       "        [     0.0000,  -2583.8297],\n",
       "        [     0.0000,  -2672.0127],\n",
       "        [     0.0000,  -2825.5333],\n",
       "        [     0.0000,  -2980.6004],\n",
       "        [     0.0000,  -4128.7590],\n",
       "        [     0.0000,  -4007.6019],\n",
       "        [     0.0000,  -2934.8068],\n",
       "        [     0.0000,  -2979.7180],\n",
       "        [     0.0000,  -3401.5673],\n",
       "        [     0.0000,  -4599.9778],\n",
       "        [     0.0000,  -1741.7544],\n",
       "        [     0.0000,  -3002.2162],\n",
       "        [     0.0000,  -2513.4407],\n",
       "        [     0.0000,  -2482.3224],\n",
       "        [     0.0000,  -4279.5068],\n",
       "        [     0.0000,  -3621.5653],\n",
       "        [     0.0000,  -2844.5470],\n",
       "        [     0.0000,  -6663.1926],\n",
       "        [     0.0000,  -4338.0752],\n",
       "        [     0.0000,  -4346.2197],\n",
       "        [     0.0000,  -3292.4428],\n",
       "        [     0.0000,  -5818.9038],\n",
       "        [     0.0000,  -6010.9885],\n",
       "        [     0.0000,  -3567.4269],\n",
       "        [     0.0000,  -3646.0593],\n",
       "        [     0.0000,  -2214.5190],\n",
       "        [     0.0000,  -2377.9390],\n",
       "        [     0.0000,  -3261.0963],\n",
       "        [     0.0000,  -3153.1107],\n",
       "        [     0.0000,  -2905.7408],\n",
       "        [     0.0000,  -2880.6542],\n",
       "        [     0.0000,  -5266.4226],\n",
       "        [     0.0000,  -8243.7160],\n",
       "        [     0.0000,  -3485.8218],\n",
       "        [     0.0000,  -7048.2392],\n",
       "        [     0.0000,  -3477.1668],\n",
       "        [     0.0000,  -3603.8663],\n",
       "        [     0.0000,  -2272.3884],\n",
       "        [     0.0000,  -4045.5135],\n",
       "        [     0.0000,  -2295.4590],\n",
       "        [     0.0000,  -2387.5671],\n",
       "        [     0.0000,  -8106.6843],\n",
       "        [     0.0000,  -6934.6308],\n",
       "        [     0.0000, -12793.2866],\n",
       "        [     0.0000, -10883.9260],\n",
       "        [     0.0000, -11220.7016],\n",
       "        [     0.0000, -14292.1699],\n",
       "        [     0.0000,  -6389.4218],\n",
       "        [     0.0000,  -6665.6066],\n",
       "        [     0.0000,  -7152.4839],\n",
       "        [     0.0000,  -7288.4657],\n",
       "        [     0.0000,  -5568.8549],\n",
       "        [     0.0000,  -6036.9054],\n",
       "        [     0.0000,  -3631.6348],\n",
       "        [     0.0000,  -4930.3339],\n",
       "        [     0.0000,  -3809.4957],\n",
       "        [     0.0000,  -3787.6529],\n",
       "        [     0.0000,  -4129.9822],\n",
       "        [     0.0000,  -7598.1300],\n",
       "        [     0.0000,  -8126.3705],\n",
       "        [     0.0000,  -6023.4777],\n",
       "        [     0.0000,  -6943.0538],\n",
       "        [     0.0000,  -4166.9006],\n",
       "        [     0.0000,  -4196.2177],\n",
       "        [     0.0000,  -4737.0058],\n",
       "        [     0.0000,  -5261.6410],\n",
       "        [     0.0000,  -3956.5045],\n",
       "        [     0.0000,  -5319.8425],\n",
       "        [     0.0000,  -4194.0330],\n",
       "        [     0.0000,  -5066.2649],\n",
       "        [     0.0000,  -9891.7942],\n",
       "        [     0.0000, -10339.5454],\n",
       "        [     0.0000,  -9651.0759],\n",
       "        [     0.0000, -12791.7323],\n",
       "        [     0.0000,  -5369.0837],\n",
       "        [     0.0000,  -8231.3665],\n",
       "        [     0.0000,  -6208.7880],\n",
       "        [     0.0000,  -6946.3749],\n",
       "        [     0.0000,  -2852.3112],\n",
       "        [     0.0000,  -3676.7872],\n",
       "        [     0.0000,  -8092.1720],\n",
       "        [     0.0000,  -8597.7314],\n",
       "        [     0.0000, -10369.5293],\n",
       "        [     0.0000, -10057.4194],\n",
       "        [     0.0000,  -9791.9774],\n",
       "        [     0.0000, -13168.4834],\n",
       "        [     0.0000,  -4498.1357],\n",
       "        [     0.0000,  -6673.2325],\n",
       "        [     0.0000,  -3616.7818],\n",
       "        [     0.0000,  -4341.9542],\n",
       "        [     0.0000,  -3658.5746],\n",
       "        [     0.0000,  -4898.4419],\n",
       "        [     0.0000,  -7087.5893],\n",
       "        [     0.0000,  -7625.4005],\n",
       "        [     0.0000,  -8023.5377],\n",
       "        [     0.0000,  -9329.6367],\n",
       "        [     0.0000,  -9238.4243],\n",
       "        [     0.0000,  -9816.8155],\n",
       "        [     0.0000,  -8236.5719],\n",
       "        [     0.0000, -11655.1585],\n",
       "        [     0.0000,  -6457.7063],\n",
       "        [     0.0000,  -6579.6852],\n",
       "        [     0.0000,  -7452.5772],\n",
       "        [     0.0000,  -8098.5342],\n",
       "        [     0.0000,  -3082.2913],\n",
       "        [     0.0000,  -3380.0609],\n",
       "        [     0.0000,  -7639.1690],\n",
       "        [     0.0000,  -8159.9068],\n",
       "        [     0.0000,  -5828.0087],\n",
       "        [     0.0000,  -6400.8959],\n",
       "        [     0.0000,  -8439.4446],\n",
       "        [     0.0000, -10059.1563],\n",
       "        [     0.0000, -10473.4792],\n",
       "        [     0.0000,  -2818.5236],\n",
       "        [     0.0000,  -6653.5285],\n",
       "        [     0.0000, -10573.8452],\n",
       "        [     0.0000, -11370.1911],\n",
       "        [     0.0000,  -4861.2526],\n",
       "        [     0.0000,  -6336.6114],\n",
       "        [     0.0000,  -4485.8979],\n",
       "        [     0.0000,  -5745.1065],\n",
       "        [     0.0000,  -5405.7461],\n",
       "        [     0.0000,  -6050.7592],\n",
       "        [     0.0000,  -8908.2567],\n",
       "        [     0.0000,  -9065.7260],\n",
       "        [     0.0000,  -7323.4907],\n",
       "        [     0.0000, -10344.0950],\n",
       "        [     0.0000, -10743.6231],\n",
       "        [     0.0000,  -5374.6410],\n",
       "        [     0.0000,  -8579.5447],\n",
       "        [     0.0000,  -3947.7898],\n",
       "        [     0.0000,  -9417.0263],\n",
       "        [     0.0000,  -9016.8459],\n",
       "        [     0.0000,  -9827.3450],\n",
       "        [     0.0000,  -7292.5206],\n",
       "        [     0.0000,  -8529.6009],\n",
       "        [     0.0000,  -2523.8602],\n",
       "        [     0.0000,  -2606.8266],\n",
       "        [     0.0000,  -6018.3637],\n",
       "        [     0.0000,  -6102.7943],\n",
       "        [     0.0000,  -6734.0068],\n",
       "        [     0.0000,  -8718.0557],\n",
       "        [     0.0000,  -6620.0419],\n",
       "        [     0.0000,  -6885.4994],\n",
       "        [     0.0000,  -6317.3215],\n",
       "        [     0.0000,  -9058.3171],\n",
       "        [     0.0000,  -8773.7535],\n",
       "        [     0.0000, -13866.0019],\n",
       "        [     0.0000,  -9163.9193],\n",
       "        [     0.0000,  -9291.8878],\n",
       "        [     0.0000,  -3339.7222],\n",
       "        [     0.0000,  -5041.6875],\n",
       "        [     0.0000,  -5452.7144],\n",
       "        [     0.0000,  -7324.4508],\n",
       "        [     0.0000, -11614.5955],\n",
       "        [     0.0000, -11718.4249],\n",
       "        [     0.0000,  -9099.2134],\n",
       "        [     0.0000,  -7298.7989],\n",
       "        [     0.0000,  -9380.5360],\n",
       "        [     0.0000,  -8471.8884],\n",
       "        [     0.0000,  -8530.0652],\n",
       "        [     0.0000,  -6020.8106],\n",
       "        [     0.0000,  -8057.9122],\n",
       "        [     0.0000,  -9296.2777],\n",
       "        [     0.0000, -14330.2414],\n",
       "        [     0.0000,  -9759.0732],\n",
       "        [     0.0000,  -9869.5460],\n",
       "        [     0.0000,  -5501.4480],\n",
       "        [     0.0000,  -6942.1924],\n",
       "        [     0.0000,  -3242.0845],\n",
       "        [     0.0000,  -4031.7432],\n",
       "        [     0.0000, -12708.2338],\n",
       "        [     0.0000, -12821.7859],\n",
       "        [     0.0000,  -7329.3613],\n",
       "        [     0.0000,  -7593.8404],\n",
       "        [     0.0000,  -7827.3826],\n",
       "        [     0.0000,  -9961.1707],\n",
       "        [     0.0000,  -7067.1262],\n",
       "        [     0.0000,  -6713.5277],\n",
       "        [     0.0000,  -8158.8857],\n",
       "        [     0.0000,  -7854.3122],\n",
       "        [     0.0000, -10757.6003],\n",
       "        [     0.0000, -14567.2839],\n",
       "        [     0.0000, -11658.8027],\n",
       "        [     0.0000, -12800.0496],\n",
       "        [     0.0000,  -5684.0151],\n",
       "        [     0.0000,  -6397.5642],\n",
       "        [     0.0000,  -4359.7176],\n",
       "        [     0.0000,  -5548.9431],\n",
       "        [     0.0000, -11773.4714],\n",
       "        [     0.0000, -11852.4136],\n",
       "        [     0.0000,  -4932.7642],\n",
       "        [     0.0000,  -3847.3824],\n",
       "        [     0.0000,  -4455.4312],\n",
       "        [     0.0000,  -4294.1563],\n",
       "        [     0.0000,  -7130.9127],\n",
       "        [     0.0000,  -6257.2977],\n",
       "        [     0.0000, -13143.2142],\n",
       "        [     0.0000, -14644.9237],\n",
       "        [     0.0000, -11627.8105],\n",
       "        [     0.0000, -12779.8744],\n",
       "        [     0.0000,  -6369.9659],\n",
       "        [     0.0000,  -7027.1423],\n",
       "        [     0.0000,  -3501.0510],\n",
       "        [     0.0000,  -4889.1298],\n",
       "        [     0.0000,  -9770.8919],\n",
       "        [     0.0000,  -9844.9187],\n",
       "        [     0.0000,  -5744.5337],\n",
       "        [     0.0000,  -5375.5317],\n",
       "        [     0.0000, -10325.4616],\n",
       "        [     0.0000, -10441.2058],\n",
       "        [     0.0000, -10029.0652],\n",
       "        [     0.0000,  -9176.7911],\n",
       "        [     0.0000, -12372.6099],\n",
       "        [     0.0000, -13172.9892],\n",
       "        [     0.0000,  -9776.2146],\n",
       "        [     0.0000,  -9830.8663],\n",
       "        [     0.0000,  -7937.2243],\n",
       "        [     0.0000,  -8466.4605],\n",
       "        [     0.0000,  -4808.9790],\n",
       "        [     0.0000,  -6444.2062],\n",
       "        [     0.0000, -10621.2788],\n",
       "        [     0.0000, -10603.0960],\n",
       "        [     0.0000,  -5755.6938],\n",
       "        [     0.0000,  -6612.9662],\n",
       "        [     0.0000,  -9297.5256],\n",
       "        [     0.0000,  -9214.3426],\n",
       "        [     0.0000,  -7232.1363],\n",
       "        [     0.0000,  -6344.8405],\n",
       "        [     0.0000,  -8155.8319],\n",
       "        [     0.0000, -10906.2990],\n",
       "        [     0.0000,  -5756.4099],\n",
       "        [     0.0000,  -5857.3903],\n",
       "        [     0.0000,  -7547.9587],\n",
       "        [     0.0000,  -7657.6599],\n",
       "        [     0.0000,  -4353.2436],\n",
       "        [     0.0000,  -5738.2168],\n",
       "        [     0.0000,  -8272.3335],\n",
       "        [     0.0000,  -8256.8259],\n",
       "        [     0.0000,  -7316.4670],\n",
       "        [     0.0000,  -8448.2965],\n",
       "        [     0.0000,  -8947.5930],\n",
       "        [     0.0000,  -9136.8818],\n",
       "        [     0.0000,  -7143.8870],\n",
       "        [     0.0000,  -6624.0600],\n",
       "        [     0.0000, -10780.6956],\n",
       "        [     0.0000, -11929.9007],\n",
       "        [     0.0000,  -7507.0434],\n",
       "        [     0.0000,  -7488.1735],\n",
       "        [     0.0000,  -5468.8031],\n",
       "        [     0.0000,  -5488.4114],\n",
       "        [     0.0000,  -4852.7002],\n",
       "        [     0.0000,  -7451.1499],\n",
       "        [     0.0000, -11697.5203],\n",
       "        [     0.0000, -11682.7502],\n",
       "        [     0.0000,  -9803.9492],\n",
       "        [     0.0000, -12360.8771],\n",
       "        [     0.0000, -12311.9680],\n",
       "        [     0.0000,  -7472.9331],\n",
       "        [     0.0000,  -9935.7502],\n",
       "        [     0.0000,  -7186.7648],\n",
       "        [     0.0000,  -6777.6763],\n",
       "        [     0.0000, -14167.3613],\n",
       "        [     0.0000, -13066.9278],\n",
       "        [     0.0000, -11318.3726],\n",
       "        [     0.0000,  -3875.6994],\n",
       "        [     0.0000,  -5789.5907],\n",
       "        [     0.0000, -11035.2260],\n",
       "        [     0.0000, -12828.1638],\n",
       "        [     0.0000,  -9205.8868],\n",
       "        [     0.0000,  -5844.3012],\n",
       "        [     0.0000,  -9287.2795],\n",
       "        [     0.0000,  -9931.2562],\n",
       "        [     0.0000,  -6420.7718],\n",
       "        [     0.0000,  -9216.8206],\n",
       "        [     0.0000,  -6145.6149],\n",
       "        [     0.0000,  -4340.7758],\n",
       "        [     0.0000,  -4516.5012],\n",
       "        [     0.0000, -14548.5119],\n",
       "        [     0.0000, -10974.1191],\n",
       "        [     0.0000, -12358.9457],\n",
       "        [     0.0000,  -9436.5116],\n",
       "        [     0.0000,  -3491.9049],\n",
       "        [     0.0000,  -3273.9742],\n",
       "        [     0.0000,  -4418.9797],\n",
       "        [     0.0000,  -5742.6087]], device='cuda:0', dtype=torch.float64,\n",
       "       grad_fn=<LogSoftmaxBackward>)"
      ]
     },
     "execution_count": 16,
     "metadata": {},
     "output_type": "execute_result"
    }
   ],
   "source": [
    "model(data)"
   ]
  },
  {
   "cell_type": "code",
   "execution_count": 17,
   "id": "dc416e37",
   "metadata": {},
   "outputs": [],
   "source": [
    "xtest=train_pred.cpu().numpy()"
   ]
  },
  {
   "cell_type": "code",
   "execution_count": 18,
   "id": "bc8bf665",
   "metadata": {},
   "outputs": [
    {
     "data": {
      "text/plain": [
       "[<matplotlib.lines.Line2D at 0x7f94e4e6bd60>]"
      ]
     },
     "execution_count": 18,
     "metadata": {},
     "output_type": "execute_result"
    },
    {
     "data": {
      "image/png": "[encoded data removed]",
      "text/plain": [
       "<Figure size 432x288 with 1 Axes>"
      ]
     },
     "metadata": {
      "needs_background": "light"
     },
     "output_type": "display_data"
    }
   ],
   "source": [
    "plt.plot(range(len(xtest)),xtest)"
   ]
  },
  {
   "cell_type": "code",
   "execution_count": 19,
   "id": "a6a32bf6",
   "metadata": {},
   "outputs": [],
   "source": [
    "acc_array=[]\n",
    "pred_array=[]\n",
    "for graph in graphs:\n",
    "    val_data=graph.to(device)\n",
    "    pred = model(val_data).argmax(dim=1)\n",
    "    pred_array.append(pred)\n",
    "    correct = (pred == val_data.y).sum()\n",
    "    acc = int(correct)/val_data.y.size(dim=0)\n",
    "    acc_array.append(acc)\n",
    "    #print(f'Accuracy: {acc:.4f}')"
   ]
  },
  {
   "cell_type": "code",
   "execution_count": 20,
   "id": "22215c20",
   "metadata": {},
   "outputs": [
    {
     "data": {
      "text/plain": [
       "0.9800038654210457"
      ]
     },
     "execution_count": 20,
     "metadata": {},
     "output_type": "execute_result"
    }
   ],
   "source": [
    "np.asarray(acc_array).mean()"
   ]
  },
  {
   "cell_type": "code",
   "execution_count": 21,
   "id": "d8705434",
   "metadata": {},
   "outputs": [
    {
     "data": {
      "image/png": "[encoded data removed]",
      "text/plain": [
       "<Figure size 432x288 with 1 Axes>"
      ]
     },
     "metadata": {
      "needs_background": "light"
     },
     "output_type": "display_data"
    }
   ],
   "source": [
    "xs = df_gen['phi']\n",
    "ys = acc_array\n",
    "\n",
    "xs, ys = zip(*sorted(zip(xs, ys)))\n",
    "\n",
    "plt.plot(xs, ys);\n",
    "plt.scatter(df_gen['phi'][0],train_acc,label='train_graph');\n",
    "plt.xlabel('gen_phi')\n",
    "plt.ylabel('accuracy')\n",
    "plt.legend()\n",
    "plt.title('acc vs gen_phi');"
   ]
  },
  {
   "cell_type": "code",
   "execution_count": 22,
   "id": "a2853279",
   "metadata": {
    "scrolled": true
   },
   "outputs": [
    {
     "data": {
      "image/png": "[encoded data removed]",
      "text/plain": [
       "<Figure size 432x288 with 1 Axes>"
      ]
     },
     "metadata": {
      "needs_background": "light"
     },
     "output_type": "display_data"
    }
   ],
   "source": [
    "xs =(df_gen['eta'])\n",
    "ys = acc_array\n",
    "\n",
    "xs, ys = zip(*sorted(zip(xs, ys)))\n",
    "\n",
    "plt.plot(xs, ys)\n",
    "plt.xlim(-3,3)\n",
    "plt.scatter(df_gen['eta'][0],train_acc)\n",
    "plt.xlabel('gen_eta')\n",
    "#plt.xscale('log')\n",
    "plt.ylabel('accuracy')\n",
    "plt.title('acc vs abs(eta)');"
   ]
  },
  {
   "cell_type": "code",
   "execution_count": 23,
   "id": "40dff68f",
   "metadata": {},
   "outputs": [],
   "source": [
    "for i in range(20):\n",
    "    cut_event_dfs[i]['pred_label'] =  pred_array[i].cpu().numpy()"
   ]
  },
  {
   "cell_type": "code",
   "execution_count": 24,
   "id": "378a1908",
   "metadata": {},
   "outputs": [],
   "source": [
    "test=cut_event_dfs[0]"
   ]
  },
  {
   "cell_type": "code",
   "execution_count": 25,
   "id": "8579a1f3",
   "metadata": {},
   "outputs": [],
   "source": [
    "GNN_PU_removed_event_dfs=[]\n",
    "for i in range(20):\n",
    "    app = cut_event_dfs[i]\n",
    "    GNN_PU_removed_event_dfs.append(app[app.pred_label==1])"
   ]
  },
  {
   "cell_type": "code",
   "execution_count": 26,
   "id": "f767f0c3",
   "metadata": {},
   "outputs": [],
   "source": [
    "GNN_PU_removed_event=GNN_PU_removed_event_dfs[0]\n",
    "for i in range(1,20):\n",
    "    app = GNN_PU_removed_event_dfs[i]\n",
    "    GNN_PU_removed_event=pd.concat([GNN_PU_removed_event,app])"
   ]
  },
  {
   "cell_type": "code",
   "execution_count": 27,
   "id": "72181158",
   "metadata": {},
   "outputs": [
    {
     "data": {
      "text/html": [
       "<div>\n",
       "<style scoped>\n",
       "    .dataframe tbody tr th:only-of-type {\n",
       "        vertical-align: middle;\n",
       "    }\n",
       "\n",
       "    .dataframe tbody tr th {\n",
       "        vertical-align: top;\n",
       "    }\n",
       "\n",
       "    .dataframe thead th {\n",
       "        text-align: right;\n",
       "    }\n",
       "</style>\n",
       "<table border=\"1\" class=\"dataframe\">\n",
       "  <thead>\n",
       "    <tr style=\"text-align: right;\">\n",
       "      <th></th>\n",
       "      <th>index</th>\n",
       "      <th>ECON_0</th>\n",
       "      <th>ECON_1</th>\n",
       "      <th>ECON_2</th>\n",
       "      <th>ECON_3</th>\n",
       "      <th>ECON_4</th>\n",
       "      <th>ECON_5</th>\n",
       "      <th>ECON_6</th>\n",
       "      <th>ECON_7</th>\n",
       "      <th>ECON_8</th>\n",
       "      <th>...</th>\n",
       "      <th>ECON_10</th>\n",
       "      <th>ECON_11</th>\n",
       "      <th>ECON_12</th>\n",
       "      <th>ECON_13</th>\n",
       "      <th>ECON_14</th>\n",
       "      <th>ECON_15</th>\n",
       "      <th>wafer_energy</th>\n",
       "      <th>tc_eta</th>\n",
       "      <th>tc_phi</th>\n",
       "      <th>pred_label</th>\n",
       "    </tr>\n",
       "  </thead>\n",
       "  <tbody>\n",
       "  </tbody>\n",
       "</table>\n",
       "<p>0 rows × 21 columns</p>\n",
       "</div>"
      ],
      "text/plain": [
       "Empty DataFrame\n",
       "Columns: [index, ECON_0, ECON_1, ECON_2, ECON_3, ECON_4, ECON_5, ECON_6, ECON_7, ECON_8, ECON_9, ECON_10, ECON_11, ECON_12, ECON_13, ECON_14, ECON_15, wafer_energy, tc_eta, tc_phi, pred_label]\n",
       "Index: []\n",
       "\n",
       "[0 rows x 21 columns]"
      ]
     },
     "execution_count": 27,
     "metadata": {},
     "output_type": "execute_result"
    }
   ],
   "source": [
    "GNN_PU_removed_event"
   ]
  },
  {
   "cell_type": "code",
   "execution_count": 28,
   "id": "db11165f",
   "metadata": {},
   "outputs": [
    {
     "data": {
      "image/png": "[encoded data removed]",
      "text/plain": [
       "<Figure size 1080x360 with 6 Axes>"
      ]
     },
     "metadata": {
      "needs_background": "light"
     },
     "output_type": "display_data"
    }
   ],
   "source": [
    "fig, axes = plt.subplots(1,3,figsize=(15,5))\n",
    "plt.subplot(1,3,1)\n",
    "h1 = plt.hist2d(x=abs(df_nodes['tc_eta']),y=df_nodes['tc_phi'],bins=(10,12),weights=df_nodes['sum'])\n",
    "fig.colorbar(h1[3],label='sum_econ')\n",
    "plt.xlabel(r'$|\\eta|$');\n",
    "plt.ylabel(r'$\\phi$');\n",
    "plt.title('Encoded event with PU');\n",
    "plt.subplot(1,3,2)\n",
    "h2 = plt.hist2d(x=df_nodes['tc_eta'],y=df_nodes['tc_phi'],bins=(10,12),weights=df_nodes['wafer_energy'])\n",
    "fig.colorbar(h2[3])\n",
    "plt.xlabel(r'$\\eta$');\n",
    "plt.title('simenergy');\n",
    "df_nodes_w_simenergy = df_nodes[df_nodes.wafer_energy>0]\n",
    "plt.subplot(1,3,3)\n",
    "h3 = plt.hist2d(x=abs(df_nodes_w_simenergy['tc_eta']),y=df_nodes_w_simenergy['tc_phi'],bins=(10,12),weights=df_nodes_w_simenergy['sum'])\n",
    "fig.colorbar(h3[3])\n",
    "plt.xlabel(r'$|\\eta|$');\n",
    "plt.title('Encoded event without PU');"
   ]
  },
  {
   "cell_type": "code",
   "execution_count": 29,
   "id": "c58db017",
   "metadata": {},
   "outputs": [],
   "source": [
    "GNN_PU_removed_event['sum'] = GNN_PU_removed_event[cols].sum(axis=1);"
   ]
  },
  {
   "cell_type": "code",
   "execution_count": 30,
   "id": "27666a23",
   "metadata": {},
   "outputs": [
    {
     "data": {
      "image/png": "[encoded data removed]",
      "text/plain": [
       "<Figure size 1080x360 with 6 Axes>"
      ]
     },
     "metadata": {
      "needs_background": "light"
     },
     "output_type": "display_data"
    }
   ],
   "source": [
    "fig, axes = plt.subplots(1,3,figsize=(15,5))\n",
    "plt.subplot(1,3,1)\n",
    "h1 = plt.hist2d(x=abs(df_nodes['tc_eta']),y=df_nodes['tc_phi'],bins=(10,12),weights=df_nodes['sum'])\n",
    "fig.colorbar(h1[3],label='sum_econ')\n",
    "plt.xlabel(r'$|\\eta|$');\n",
    "plt.ylabel(r'$\\phi$');\n",
    "plt.title('Encoded event with PU');\n",
    "plt.subplot(1,3,2)\n",
    "h2 = plt.hist2d(x=GNN_PU_removed_event['tc_eta'],y=GNN_PU_removed_event['tc_phi'],bins=(10,12),weights=GNN_PU_removed_event['sum'])\n",
    "fig.colorbar(h2[3])\n",
    "plt.xlabel(r'$\\eta$');\n",
    "plt.title('GNN pred');\n",
    "plt.subplot(1,3,3)\n",
    "h3 = plt.hist2d(x=abs(df_nodes_w_simenergy['tc_eta']),y=df_nodes_w_simenergy['tc_phi'],bins=(10,12),weights=df_nodes_w_simenergy['sum'])\n",
    "fig.colorbar(h3[3])\n",
    "plt.xlabel(r'$|\\eta|$');\n",
    "plt.title('truth');"
   ]
  },
  {
   "cell_type": "code",
   "execution_count": 31,
   "id": "0ea721ed",
   "metadata": {},
   "outputs": [
    {
     "data": {
      "image/png": "[encoded data removed]",
      "text/plain": [
       "<Figure size 1080x360 with 6 Axes>"
      ]
     },
     "metadata": {
      "needs_background": "light"
     },
     "output_type": "display_data"
    }
   ],
   "source": [
    "fig, axes = plt.subplots(1,3,figsize=(15,5))\n",
    "plt.subplot(1,3,1)\n",
    "h1 = plt.hist2d(x=abs(df_nodes['tc_eta']),y=df_nodes['tc_phi'],bins=(10,12),weights=df_nodes['sum'])\n",
    "fig.colorbar(h1[3],label='sum_econ')\n",
    "plt.xlabel(r'$|\\eta|$');\n",
    "plt.ylabel(r'$\\phi$');\n",
    "plt.title('Encoded event with PU');\n",
    "plt.subplot(1,3,2)\n",
    "h2 = plt.hist2d(x=abs(GNN_PU_removed_event['tc_eta']),y=GNN_PU_removed_event['tc_phi'],bins=(10,12),weights=GNN_PU_removed_event['sum'])\n",
    "fig.colorbar(h2[3])\n",
    "plt.xlabel(r'$|\\eta|$');\n",
    "plt.title('GNN pred');\n",
    "plt.subplot(1,3,3)\n",
    "h3 = plt.hist2d(x=abs(df_nodes_w_simenergy['tc_eta']),y=df_nodes_w_simenergy['tc_phi'],bins=(10,12),weights=df_nodes_w_simenergy['sum'])\n",
    "fig.colorbar(h3[3])\n",
    "plt.xlabel(r'$|\\eta|$');\n",
    "plt.title('truth');"
   ]
  },
  {
   "cell_type": "code",
   "execution_count": null,
   "id": "d3823a76",
   "metadata": {},
   "outputs": [],
   "source": []
  }
 ],
 "metadata": {
  "kernelspec": {
   "display_name": "Python 3 (ipykernel)",
   "language": "python",
   "name": "python3"
  },
  "language_info": {
   "codemirror_mode": {
    "name": "ipython",
    "version": 3
   },
   "file_extension": ".py",
   "mimetype": "text/x-python",
   "name": "python",
   "nbconvert_exporter": "python",
   "pygments_lexer": "ipython3",
   "version": "3.9.5"
  }
 },
 "nbformat": 4,
 "nbformat_minor": 5
}
