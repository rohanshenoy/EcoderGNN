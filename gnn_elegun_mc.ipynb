{
 "cells": [
  {
   "cell_type": "code",
   "execution_count": 1,
   "id": "31aa0023",
   "metadata": {},
   "outputs": [],
   "source": [
    "import os\n",
    "import yaml\n",
    "import pickle\n",
    "import numpy as np\n",
    "import pandas as pd\n",
    "import itertools\n",
    "import scipy\n",
    "import torch\n",
    "import torch_geometric.datasets as datasets\n",
    "import torch_geometric.data as Data\n",
    "from torch_geometric.loader import DataLoader\n",
    "import torch_geometric.transforms as transforms\n",
    "import networkx as nx\n",
    "from torch_geometric.utils.convert import to_networkx\n",
    "import matplotlib.pyplot as plt\n",
    "\n",
    "from produce_dataset import *\n",
    "\n",
    "import torch.nn.functional as F\n",
    "from torch_geometric.nn import GCNConv"
   ]
  },
  {
   "cell_type": "code",
   "execution_count": 2,
   "id": "9721939a",
   "metadata": {},
   "outputs": [],
   "source": [
    "ntuple_dir = '/ecoderemdvol/EleGun/EPGun-PU200/data/econ_ntuples/0002/'\n",
    "root_dir = 'FloatingpointAutoEncoderEMDAEMSEttbarDummyHistomaxGenmatchGenclustersntuple'\n",
    "\n",
    "df_econ = loadEconData(ntuple_dir,root_dir,'econ_data.csv',False)\n",
    "\n",
    "df_gen = loadGenData(ntuple_dir,root_dir,'gen_data.csv')"
   ]
  },
  {
   "cell_type": "code",
   "execution_count": 3,
   "id": "842961ce",
   "metadata": {},
   "outputs": [
    {
     "name": "stdout",
     "output_type": "stream",
     "text": [
      "e wafers: 1387, out of: 435768 or  0.32%\n"
     ]
    }
   ],
   "source": [
    "df_nodes=df_econ[['ECON_0', 'ECON_1', 'ECON_2', 'ECON_3', 'ECON_4', 'ECON_5', 'ECON_6',\n",
    "       'ECON_7', 'ECON_8', 'ECON_9', 'ECON_10', 'ECON_11', 'ECON_12','ECON_13', 'ECON_14', 'ECON_15', \n",
    "        'wafer_energy', 'tc_eta', 'tc_phi']]\n",
    "df_nodes.reset_index(inplace=True)\n",
    "\n",
    "count = (df_econ['wafer_energy'] != 0).sum()\n",
    "print('e wafers: '+str(count)+', out of: '+str(df_econ.size)+' or  '+ str(round(count/df_econ.size*100,2))+'%')"
   ]
  },
  {
   "cell_type": "code",
   "execution_count": 4,
   "id": "dc658932",
   "metadata": {},
   "outputs": [
    {
     "name": "stderr",
     "output_type": "stream",
     "text": [
      "/opt/conda/lib/python3.9/site-packages/pandas/core/frame.py:3607: SettingWithCopyWarning: \n",
      "A value is trying to be set on a copy of a slice from a DataFrame.\n",
      "Try using .loc[row_indexer,col_indexer] = value instead\n",
      "\n",
      "See the caveats in the documentation: https://pandas.pydata.org/pandas-docs/stable/user_guide/indexing.html#returning-a-view-versus-a-copy\n",
      "  self._set_item(key, value)\n"
     ]
    }
   ],
   "source": [
    "cols = ['ECON_0', 'ECON_1', 'ECON_2', 'ECON_3', 'ECON_4', 'ECON_5', 'ECON_6',\n",
    "       'ECON_7', 'ECON_8', 'ECON_9', 'ECON_10', 'ECON_11', 'ECON_12','ECON_13', 'ECON_14', 'ECON_15']\n",
    "\n",
    "#find sum of columns specified \n",
    "df_nodes['sum'] = df_nodes[cols].sum(axis=1);"
   ]
  },
  {
   "cell_type": "code",
   "execution_count": 25,
   "id": "89d56b54",
   "metadata": {},
   "outputs": [
    {
     "data": {
      "image/png": "[encoded data removed]",
      "text/plain": [
       "<Figure size 1080x360 with 6 Axes>"
      ]
     },
     "metadata": {
      "needs_background": "light"
     },
     "output_type": "display_data"
    }
   ],
   "source": [
    "fig, axes = plt.subplots(1,3,figsize=(15,5))\n",
    "plt.subplot(1,3,1)\n",
    "h1 = plt.hist2d(x=abs(df_nodes['tc_eta']),y=df_nodes['tc_phi'],bins=(10,12),weights=df_nodes['sum'])\n",
    "fig.colorbar(h1[3],label='sum_econ')\n",
    "plt.xlabel(r'$|\\eta|$');\n",
    "plt.ylabel(r'$\\phi$');\n",
    "plt.title('Encoded event with PU');\n",
    "plt.subplot(1,3,2)\n",
    "h2 = plt.hist2d(x=df_nodes['tc_eta'],y=df_nodes['tc_phi'],bins=(10,12),weights=df_nodes['wafer_energy'])\n",
    "fig.colorbar(h2[3])\n",
    "plt.xlabel(r'$\\eta$');\n",
    "plt.title('simenergy');\n",
    "df_nodes_w_simenergy = df_nodes[df_nodes.wafer_energy>0]\n",
    "plt.subplot(1,3,3)\n",
    "h3 = plt.hist2d(x=abs(df_nodes_w_simenergy['tc_eta']),y=df_nodes_w_simenergy['tc_phi'],bins=(10,12),weights=df_nodes_w_simenergy['sum'])\n",
    "fig.colorbar(h3[3])\n",
    "plt.xlabel(r'$|\\eta|$');\n",
    "plt.title('Encoded event without PU');"
   ]
  },
  {
   "cell_type": "markdown",
   "id": "3080a63d",
   "metadata": {},
   "source": [
    "event for 20 electrons"
   ]
  },
  {
   "cell_type": "code",
   "execution_count": 6,
   "id": "9a0eaacc",
   "metadata": {},
   "outputs": [],
   "source": [
    "def build_graph(df_econ,\n",
    "            df_gen,\n",
    "            zside_select,\n",
    "            phi_min,\n",
    "            phi_max):\n",
    "    \n",
    "    if zside_select !=0:\n",
    "        df_econ = df_econ[df_econ.zside == zside_select]\n",
    "\n",
    "    #only choose wafers in some phi range now\n",
    "    \n",
    "    df_econ = df_econ[df_econ.tc_phi>phi_min][df_econ.tc_phi<phi_max];\n",
    "    \n",
    "    df_nodes=df_econ[['ECON_0', 'ECON_1', 'ECON_2', 'ECON_3', 'ECON_4', 'ECON_5', 'ECON_6',\n",
    "           'ECON_7', 'ECON_8', 'ECON_9', 'ECON_10', 'ECON_11', 'ECON_12','ECON_13', 'ECON_14', 'ECON_15', \n",
    "            'wafer_energy', 'tc_eta', 'tc_phi']]\n",
    "    df_nodes.reset_index(inplace=True)\n",
    "    \n",
    "    embeddings = torch.tensor(df_nodes.values)\n",
    "\n",
    "    eta=df_nodes['tc_eta']\n",
    "    phi=df_nodes['tc_phi']\n",
    "    idx = range(len(eta))\n",
    "    indices_i = np.array([i for i,j in itertools.product(idx,idx)])\n",
    "    indices_j = np.array([j for i,j in itertools.product(idx,idx)])\n",
    "\n",
    "    del_R = np.empty([len(eta),len(eta)])\n",
    "    del_R.shape\n",
    "\n",
    "    for (i, j) in zip(indices_i,indices_j):\n",
    "        del_R[i][j]=np.sqrt((eta[i]-eta[j])**2+((phi[i]-phi[j])%(2*np.pi))**2)\n",
    "\n",
    "    del_R = torch.tensor(del_R)\n",
    "\n",
    "    adj = np.zeros([len(eta),len(eta)])\n",
    "    for (i, j) in zip(indices_i,indices_j):\n",
    "        if del_R[i][j] <0.045 and  del_R[i][j]> 0 :\n",
    "            adj[i][j]=1.0\n",
    "\n",
    "    adj=torch.tensor(adj) \n",
    "\n",
    "    edge_index = (adj > 0.0).nonzero().t()\n",
    "    edge_index.shape\n",
    "\n",
    "    #predict node level feature: PU vs electron per simenergy\n",
    "\n",
    "    feature_df= df_econ['wafer_energy']\n",
    "    labels = (feature_df.where(feature_df==0,other=1))\n",
    "    features = torch.tensor(labels.values).to(torch.long)\n",
    "\n",
    "    graph = Data.Data(x=embeddings, edge_index=edge_index, y=features)\n",
    "    graph.num_classes=2\n",
    "    return graph,df_nodes"
   ]
  },
  {
   "cell_type": "code",
   "execution_count": 7,
   "id": "7a153d9d",
   "metadata": {},
   "outputs": [],
   "source": [
    "#Choose only front endcap for training\n",
    "\n",
    "#df_gen = (df_gen[df_gen.eta>0])\n",
    "#df_gen.reset_index(drop=True,inplace=True)"
   ]
  },
  {
   "cell_type": "code",
   "execution_count": 11,
   "id": "7aee84d2",
   "metadata": {},
   "outputs": [],
   "source": [
    "graphs = []\n",
    "cut_event_dfs=[]"
   ]
  },
  {
   "cell_type": "code",
   "execution_count": 13,
   "id": "828ec728",
   "metadata": {},
   "outputs": [
    {
     "name": "stderr",
     "output_type": "stream",
     "text": [
      "/tmp/ipykernel_393/1296269495.py:12: UserWarning: Boolean Series key will be reindexed to match DataFrame index.\n",
      "  df_econ = df_econ[df_econ.tc_phi>phi_min][df_econ.tc_phi<phi_max];\n"
     ]
    }
   ],
   "source": [
    "for gen_phi in df_gen['phi']:\n",
    "    phi_min,phi_max= gen_phi-np.pi/12,gen_phi+np.pi/12\n",
    "    graph, cut_event_df = build_graph(df_econ,df_gen,0,phi_min,phi_max)\n",
    "    graphs.append(graph);\n",
    "    cut_event_dfs.append(cut_event_df)  "
   ]
  },
  {
   "cell_type": "code",
   "execution_count": 75,
   "id": "7dcfd2f4",
   "metadata": {},
   "outputs": [],
   "source": [
    "class GCN(torch.nn.Module):\n",
    "    def __init__(self):\n",
    "        super().__init__()\n",
    "        self.conv1 = GCNConv(graphs[0].num_features, 16)\n",
    "        self.conv2 = GCNConv(16, graphs[0].num_classes)\n",
    "\n",
    "    def forward(self, data):\n",
    "        x, edge_index = data.x, data.edge_index\n",
    "\n",
    "        x = self.conv1(x, edge_index)\n",
    "        x = F.relu(x)\n",
    "        x = F.dropout(x, training=self.training)\n",
    "        x = self.conv2(x, edge_index)\n",
    "\n",
    "        return F.log_softmax(x, dim=1)\n"
   ]
  },
  {
   "cell_type": "code",
   "execution_count": 131,
   "id": "fbe92a5f",
   "metadata": {},
   "outputs": [],
   "source": [
    "device = torch.device('cuda')\n",
    "model = GCN().to(device)\n",
    "model = model.double()"
   ]
  },
  {
   "cell_type": "code",
   "execution_count": 132,
   "id": "50f9622b",
   "metadata": {},
   "outputs": [],
   "source": [
    "data = graphs[0].to(device)\n",
    "optimizer = torch.optim.Adam(model.parameters(), lr=0.01, weight_decay=5e-4)"
   ]
  },
  {
   "cell_type": "code",
   "execution_count": 133,
   "id": "af782ada",
   "metadata": {},
   "outputs": [],
   "source": [
    "model.train()\n",
    "for epoch in range(100):\n",
    "    optimizer.zero_grad()\n",
    "    out = model(data)\n",
    "    loss = F.nll_loss(out,data.y)\n",
    "    loss.backward()\n",
    "    optimizer.step()"
   ]
  },
  {
   "cell_type": "code",
   "execution_count": 134,
   "id": "8eb6acd4",
   "metadata": {},
   "outputs": [
    {
     "name": "stdout",
     "output_type": "stream",
     "text": [
      "Accuracy: 0.9118\n"
     ]
    }
   ],
   "source": [
    "model.eval()\n",
    "train_pred = model(data).argmax(dim=1)\n",
    "correct = (train_pred == data.y).sum()\n",
    "train_acc = int(correct)/graphs[0].y.size(dim=0)\n",
    "print(f'Accuracy: {train_acc:.4f}')"
   ]
  },
  {
   "cell_type": "code",
   "execution_count": 135,
   "id": "4fc15bec",
   "metadata": {},
   "outputs": [
    {
     "data": {
      "text/plain": [
       "tensor([[-2.5888e-06, -1.2864e+01],\n",
       "        [-1.5074e-09, -2.0313e+01],\n",
       "        [-8.8818e-16, -3.4742e+01],\n",
       "        ...,\n",
       "        [-3.1228e-07, -1.4979e+01],\n",
       "        [ 0.0000e+00, -4.9577e+01],\n",
       "        [-2.5915e-12, -2.6679e+01]], device='cuda:0', dtype=torch.float64,\n",
       "       grad_fn=<LogSoftmaxBackward>)"
      ]
     },
     "execution_count": 135,
     "metadata": {},
     "output_type": "execute_result"
    }
   ],
   "source": [
    "model(data)"
   ]
  },
  {
   "cell_type": "code",
   "execution_count": 136,
   "id": "effcfac2",
   "metadata": {},
   "outputs": [],
   "source": [
    "xtest=train_pred.cpu().numpy()"
   ]
  },
  {
   "cell_type": "code",
   "execution_count": 137,
   "id": "c267aefe",
   "metadata": {},
   "outputs": [
    {
     "data": {
      "text/plain": [
       "[<matplotlib.lines.Line2D at 0x7f78bb578400>]"
      ]
     },
     "execution_count": 137,
     "metadata": {},
     "output_type": "execute_result"
    },
    {
     "data": {
      "image/png": "[encoded data removed]",
      "text/plain": [
       "<Figure size 432x288 with 1 Axes>"
      ]
     },
     "metadata": {
      "needs_background": "light"
     },
     "output_type": "display_data"
    }
   ],
   "source": [
    "plt.plot(range(len(xtest)),xtest)"
   ]
  },
  {
   "cell_type": "code",
   "execution_count": 80,
   "id": "a6a32bf6",
   "metadata": {},
   "outputs": [],
   "source": [
    "acc_array=[]\n",
    "for graph in graphs:\n",
    "    val_data=graph.to(device)\n",
    "    pred = model(val_data).argmax(dim=1)\n",
    "    correct = (pred == val_data.y).sum()\n",
    "    acc = int(correct)/val_data.y.size(dim=0)\n",
    "    acc_array.append(acc)\n",
    "    #print(f'Accuracy: {acc:.4f}')"
   ]
  },
  {
   "cell_type": "code",
   "execution_count": 81,
   "id": "1a1c228b",
   "metadata": {},
   "outputs": [
    {
     "data": {
      "image/png": "[encoded data removed]",
      "text/plain": [
       "<Figure size 432x288 with 1 Axes>"
      ]
     },
     "metadata": {
      "needs_background": "light"
     },
     "output_type": "display_data"
    }
   ],
   "source": [
    "xs = df_gen['phi']\n",
    "ys = acc_array\n",
    "\n",
    "xs, ys = zip(*sorted(zip(xs, ys)))\n",
    "\n",
    "plt.plot(xs, ys);\n",
    "plt.scatter(df_gen['phi'][0],train_acc,label='train_graph');\n",
    "plt.xlabel('gen_phi')\n",
    "plt.ylabel('accuracy')\n",
    "plt.legend()\n",
    "plt.title('acc vs gen_phi');"
   ]
  },
  {
   "cell_type": "code",
   "execution_count": 82,
   "id": "adec2ad6",
   "metadata": {
    "scrolled": true
   },
   "outputs": [
    {
     "data": {
      "image/png": "[encoded data removed]",
      "text/plain": [
       "<Figure size 432x288 with 1 Axes>"
      ]
     },
     "metadata": {
      "needs_background": "light"
     },
     "output_type": "display_data"
    }
   ],
   "source": [
    "xs =(df_gen['eta'])\n",
    "ys = acc_array\n",
    "\n",
    "xs, ys = zip(*sorted(zip(xs, ys)))\n",
    "\n",
    "plt.plot(xs, ys)\n",
    "plt.scatter(df_gen['eta'][0],train_acc)\n",
    "plt.xlabel('gen_eta')\n",
    "plt.ylabel('accuracy')\n",
    "plt.title('acc vs abs(eta)');"
   ]
  },
  {
   "cell_type": "code",
   "execution_count": 111,
   "id": "29cab8a6",
   "metadata": {},
   "outputs": [],
   "source": [
    "pred_array=[]\n",
    "\n",
    "for graph in graphs:\n",
    "    val_data=graph.to(device)\n",
    "    pred = model(val_data)\n",
    "    pred_array.append(pred)"
   ]
  },
  {
   "cell_type": "code",
   "execution_count": null,
   "id": "b7e902ad",
   "metadata": {},
   "outputs": [],
   "source": []
  }
 ],
 "metadata": {
  "kernelspec": {
   "display_name": "Python 3 (ipykernel)",
   "language": "python",
   "name": "python3"
  },
  "language_info": {
   "codemirror_mode": {
    "name": "ipython",
    "version": 3
   },
   "file_extension": ".py",
   "mimetype": "text/x-python",
   "name": "python",
   "nbconvert_exporter": "python",
   "pygments_lexer": "ipython3",
   "version": "3.9.5"
  }
 },
 "nbformat": 4,
 "nbformat_minor": 5
}
